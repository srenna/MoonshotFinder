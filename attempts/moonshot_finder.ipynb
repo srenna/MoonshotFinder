{
  "nbformat": 4,
  "nbformat_minor": 0,
  "metadata": {
    "colab": {
      "provenance": [],
      "collapsed_sections": [
        "VlX3wx-kOd5o",
        "1sGJRcQMAhVv"
      ],
      "gpuType": "T4",
      "toc_visible": true,
      "include_colab_link": true
    },
    "kernelspec": {
      "name": "python3",
      "display_name": "Python 3"
    },
    "language_info": {
      "name": "python"
    },
    "accelerator": "GPU",
    "widgets": {
      "application/vnd.jupyter.widget-state+json": {
        "deaa390ff91f4f578c316255ac389095": {
          "model_module": "@jupyter-widgets/controls",
          "model_name": "HBoxModel",
          "model_module_version": "1.5.0",
          "state": {
            "_dom_classes": [],
            "_model_module": "@jupyter-widgets/controls",
            "_model_module_version": "1.5.0",
            "_model_name": "HBoxModel",
            "_view_count": null,
            "_view_module": "@jupyter-widgets/controls",
            "_view_module_version": "1.5.0",
            "_view_name": "HBoxView",
            "box_style": "",
            "children": [
              "IPY_MODEL_576c9b967867414a97c4e37896655cbb",
              "IPY_MODEL_d035d7a703504bc4a97259ae59f24101",
              "IPY_MODEL_7e2c3b29427d496fb005fed45bbbf8e8"
            ],
            "layout": "IPY_MODEL_b0e75e17714c45209dc810745c1d5e54"
          }
        },
        "576c9b967867414a97c4e37896655cbb": {
          "model_module": "@jupyter-widgets/controls",
          "model_name": "HTMLModel",
          "model_module_version": "1.5.0",
          "state": {
            "_dom_classes": [],
            "_model_module": "@jupyter-widgets/controls",
            "_model_module_version": "1.5.0",
            "_model_name": "HTMLModel",
            "_view_count": null,
            "_view_module": "@jupyter-widgets/controls",
            "_view_module_version": "1.5.0",
            "_view_name": "HTMLView",
            "description": "",
            "description_tooltip": null,
            "layout": "IPY_MODEL_519dcd5ab1c54670a2b584c6bf0ccfda",
            "placeholder": "​",
            "style": "IPY_MODEL_1b5e44cb09694981a0070c3d65a02e84",
            "value": "Loading checkpoint shards: 100%"
          }
        },
        "d035d7a703504bc4a97259ae59f24101": {
          "model_module": "@jupyter-widgets/controls",
          "model_name": "FloatProgressModel",
          "model_module_version": "1.5.0",
          "state": {
            "_dom_classes": [],
            "_model_module": "@jupyter-widgets/controls",
            "_model_module_version": "1.5.0",
            "_model_name": "FloatProgressModel",
            "_view_count": null,
            "_view_module": "@jupyter-widgets/controls",
            "_view_module_version": "1.5.0",
            "_view_name": "ProgressView",
            "bar_style": "success",
            "description": "",
            "description_tooltip": null,
            "layout": "IPY_MODEL_98162ef430a84761bf8a148de8f2062a",
            "max": 2,
            "min": 0,
            "orientation": "horizontal",
            "style": "IPY_MODEL_d45ce81d28fe475bb66a32db7f2ebe90",
            "value": 2
          }
        },
        "7e2c3b29427d496fb005fed45bbbf8e8": {
          "model_module": "@jupyter-widgets/controls",
          "model_name": "HTMLModel",
          "model_module_version": "1.5.0",
          "state": {
            "_dom_classes": [],
            "_model_module": "@jupyter-widgets/controls",
            "_model_module_version": "1.5.0",
            "_model_name": "HTMLModel",
            "_view_count": null,
            "_view_module": "@jupyter-widgets/controls",
            "_view_module_version": "1.5.0",
            "_view_name": "HTMLView",
            "description": "",
            "description_tooltip": null,
            "layout": "IPY_MODEL_067c82ab50eb42a6a1a8d307a3d899f1",
            "placeholder": "​",
            "style": "IPY_MODEL_55f66af8c7674185927c7c3cf2ab589e",
            "value": " 2/2 [01:11&lt;00:00, 33.47s/it]"
          }
        },
        "b0e75e17714c45209dc810745c1d5e54": {
          "model_module": "@jupyter-widgets/base",
          "model_name": "LayoutModel",
          "model_module_version": "1.2.0",
          "state": {
            "_model_module": "@jupyter-widgets/base",
            "_model_module_version": "1.2.0",
            "_model_name": "LayoutModel",
            "_view_count": null,
            "_view_module": "@jupyter-widgets/base",
            "_view_module_version": "1.2.0",
            "_view_name": "LayoutView",
            "align_content": null,
            "align_items": null,
            "align_self": null,
            "border": null,
            "bottom": null,
            "display": null,
            "flex": null,
            "flex_flow": null,
            "grid_area": null,
            "grid_auto_columns": null,
            "grid_auto_flow": null,
            "grid_auto_rows": null,
            "grid_column": null,
            "grid_gap": null,
            "grid_row": null,
            "grid_template_areas": null,
            "grid_template_columns": null,
            "grid_template_rows": null,
            "height": null,
            "justify_content": null,
            "justify_items": null,
            "left": null,
            "margin": null,
            "max_height": null,
            "max_width": null,
            "min_height": null,
            "min_width": null,
            "object_fit": null,
            "object_position": null,
            "order": null,
            "overflow": null,
            "overflow_x": null,
            "overflow_y": null,
            "padding": null,
            "right": null,
            "top": null,
            "visibility": null,
            "width": null
          }
        },
        "519dcd5ab1c54670a2b584c6bf0ccfda": {
          "model_module": "@jupyter-widgets/base",
          "model_name": "LayoutModel",
          "model_module_version": "1.2.0",
          "state": {
            "_model_module": "@jupyter-widgets/base",
            "_model_module_version": "1.2.0",
            "_model_name": "LayoutModel",
            "_view_count": null,
            "_view_module": "@jupyter-widgets/base",
            "_view_module_version": "1.2.0",
            "_view_name": "LayoutView",
            "align_content": null,
            "align_items": null,
            "align_self": null,
            "border": null,
            "bottom": null,
            "display": null,
            "flex": null,
            "flex_flow": null,
            "grid_area": null,
            "grid_auto_columns": null,
            "grid_auto_flow": null,
            "grid_auto_rows": null,
            "grid_column": null,
            "grid_gap": null,
            "grid_row": null,
            "grid_template_areas": null,
            "grid_template_columns": null,
            "grid_template_rows": null,
            "height": null,
            "justify_content": null,
            "justify_items": null,
            "left": null,
            "margin": null,
            "max_height": null,
            "max_width": null,
            "min_height": null,
            "min_width": null,
            "object_fit": null,
            "object_position": null,
            "order": null,
            "overflow": null,
            "overflow_x": null,
            "overflow_y": null,
            "padding": null,
            "right": null,
            "top": null,
            "visibility": null,
            "width": null
          }
        },
        "1b5e44cb09694981a0070c3d65a02e84": {
          "model_module": "@jupyter-widgets/controls",
          "model_name": "DescriptionStyleModel",
          "model_module_version": "1.5.0",
          "state": {
            "_model_module": "@jupyter-widgets/controls",
            "_model_module_version": "1.5.0",
            "_model_name": "DescriptionStyleModel",
            "_view_count": null,
            "_view_module": "@jupyter-widgets/base",
            "_view_module_version": "1.2.0",
            "_view_name": "StyleView",
            "description_width": ""
          }
        },
        "98162ef430a84761bf8a148de8f2062a": {
          "model_module": "@jupyter-widgets/base",
          "model_name": "LayoutModel",
          "model_module_version": "1.2.0",
          "state": {
            "_model_module": "@jupyter-widgets/base",
            "_model_module_version": "1.2.0",
            "_model_name": "LayoutModel",
            "_view_count": null,
            "_view_module": "@jupyter-widgets/base",
            "_view_module_version": "1.2.0",
            "_view_name": "LayoutView",
            "align_content": null,
            "align_items": null,
            "align_self": null,
            "border": null,
            "bottom": null,
            "display": null,
            "flex": null,
            "flex_flow": null,
            "grid_area": null,
            "grid_auto_columns": null,
            "grid_auto_flow": null,
            "grid_auto_rows": null,
            "grid_column": null,
            "grid_gap": null,
            "grid_row": null,
            "grid_template_areas": null,
            "grid_template_columns": null,
            "grid_template_rows": null,
            "height": null,
            "justify_content": null,
            "justify_items": null,
            "left": null,
            "margin": null,
            "max_height": null,
            "max_width": null,
            "min_height": null,
            "min_width": null,
            "object_fit": null,
            "object_position": null,
            "order": null,
            "overflow": null,
            "overflow_x": null,
            "overflow_y": null,
            "padding": null,
            "right": null,
            "top": null,
            "visibility": null,
            "width": null
          }
        },
        "d45ce81d28fe475bb66a32db7f2ebe90": {
          "model_module": "@jupyter-widgets/controls",
          "model_name": "ProgressStyleModel",
          "model_module_version": "1.5.0",
          "state": {
            "_model_module": "@jupyter-widgets/controls",
            "_model_module_version": "1.5.0",
            "_model_name": "ProgressStyleModel",
            "_view_count": null,
            "_view_module": "@jupyter-widgets/base",
            "_view_module_version": "1.2.0",
            "_view_name": "StyleView",
            "bar_color": null,
            "description_width": ""
          }
        },
        "067c82ab50eb42a6a1a8d307a3d899f1": {
          "model_module": "@jupyter-widgets/base",
          "model_name": "LayoutModel",
          "model_module_version": "1.2.0",
          "state": {
            "_model_module": "@jupyter-widgets/base",
            "_model_module_version": "1.2.0",
            "_model_name": "LayoutModel",
            "_view_count": null,
            "_view_module": "@jupyter-widgets/base",
            "_view_module_version": "1.2.0",
            "_view_name": "LayoutView",
            "align_content": null,
            "align_items": null,
            "align_self": null,
            "border": null,
            "bottom": null,
            "display": null,
            "flex": null,
            "flex_flow": null,
            "grid_area": null,
            "grid_auto_columns": null,
            "grid_auto_flow": null,
            "grid_auto_rows": null,
            "grid_column": null,
            "grid_gap": null,
            "grid_row": null,
            "grid_template_areas": null,
            "grid_template_columns": null,
            "grid_template_rows": null,
            "height": null,
            "justify_content": null,
            "justify_items": null,
            "left": null,
            "margin": null,
            "max_height": null,
            "max_width": null,
            "min_height": null,
            "min_width": null,
            "object_fit": null,
            "object_position": null,
            "order": null,
            "overflow": null,
            "overflow_x": null,
            "overflow_y": null,
            "padding": null,
            "right": null,
            "top": null,
            "visibility": null,
            "width": null
          }
        },
        "55f66af8c7674185927c7c3cf2ab589e": {
          "model_module": "@jupyter-widgets/controls",
          "model_name": "DescriptionStyleModel",
          "model_module_version": "1.5.0",
          "state": {
            "_model_module": "@jupyter-widgets/controls",
            "_model_module_version": "1.5.0",
            "_model_name": "DescriptionStyleModel",
            "_view_count": null,
            "_view_module": "@jupyter-widgets/base",
            "_view_module_version": "1.2.0",
            "_view_name": "StyleView",
            "description_width": ""
          }
        }
      }
    }
  },
  "cells": [
    {
      "cell_type": "markdown",
      "metadata": {
        "id": "view-in-github",
        "colab_type": "text"
      },
      "source": [
        "<a href=\"https://colab.research.google.com/github/srenna/moonshot_finder/blob/main/moonshot_finder.ipynb\" target=\"_parent\"><img src=\"https://colab.research.google.com/assets/colab-badge.svg\" alt=\"Open In Colab\"/></a>"
      ]
    },
    {
      "cell_type": "code",
      "source": [
        "import pandas as pd"
      ],
      "metadata": {
        "id": "KhJPvjqE4Kgj"
      },
      "execution_count": null,
      "outputs": []
    },
    {
      "cell_type": "code",
      "source": [
        "encodings_to_try = ['utf-8', 'latin-1', 'ISO-8859-1']\n",
        "\n",
        "for encoding in encodings_to_try:\n",
        "    try:\n",
        "        df = pd.read_csv('AI EarthHack Dataset.csv', encoding=encoding)\n",
        "        break\n",
        "    except UnicodeDecodeError:\n",
        "        continue"
      ],
      "metadata": {
        "id": "qQpAa9cG4KXB"
      },
      "execution_count": null,
      "outputs": []
    },
    {
      "cell_type": "code",
      "source": [
        "# check all the data is there\n",
        "len(df)\n",
        "\n",
        "# look for null values\n",
        "df.isnull().sum()\n",
        "\n",
        "# drop null values\n",
        "df = df.dropna()"
      ],
      "metadata": {
        "id": "Tx3WHrAJ4cOf"
      },
      "execution_count": null,
      "outputs": []
    },
    {
      "cell_type": "code",
      "source": [
        "df.head()"
      ],
      "metadata": {
        "colab": {
          "base_uri": "https://localhost:8080/",
          "height": 206
        },
        "id": "ExI1a1lq4hTf",
        "outputId": "48497102-7751-49f9-ac1d-0a2a1f780c18"
      },
      "execution_count": null,
      "outputs": [
        {
          "output_type": "execute_result",
          "data": {
            "text/plain": [
              "   id                                            problem  \\\n",
              "0   1  The construction industry is indubitably one o...   \n",
              "1   2  I'm sure you, like me, are feeling the heat - ...   \n",
              "2   3  The massive shift in student learning towards ...   \n",
              "3   4  The fashion industry is one of the top contrib...   \n",
              "4   5  The majority of the materials used in producin...   \n",
              "\n",
              "                                            solution  \n",
              "0  Herein, we propose an innovative approach to m...  \n",
              "1  Imagine standing on a green hill, not a single...  \n",
              "2  Implement a \"\"Book Swap\"\" program within educa...  \n",
              "3  The proposed solution is a garment rental serv...  \n",
              "4  An innovative concept would be a modular elect...  "
            ],
            "text/html": [
              "\n",
              "  <div id=\"df-697175fa-af59-422d-840b-86ce48e3ccb2\" class=\"colab-df-container\">\n",
              "    <div>\n",
              "<style scoped>\n",
              "    .dataframe tbody tr th:only-of-type {\n",
              "        vertical-align: middle;\n",
              "    }\n",
              "\n",
              "    .dataframe tbody tr th {\n",
              "        vertical-align: top;\n",
              "    }\n",
              "\n",
              "    .dataframe thead th {\n",
              "        text-align: right;\n",
              "    }\n",
              "</style>\n",
              "<table border=\"1\" class=\"dataframe\">\n",
              "  <thead>\n",
              "    <tr style=\"text-align: right;\">\n",
              "      <th></th>\n",
              "      <th>id</th>\n",
              "      <th>problem</th>\n",
              "      <th>solution</th>\n",
              "    </tr>\n",
              "  </thead>\n",
              "  <tbody>\n",
              "    <tr>\n",
              "      <th>0</th>\n",
              "      <td>1</td>\n",
              "      <td>The construction industry is indubitably one o...</td>\n",
              "      <td>Herein, we propose an innovative approach to m...</td>\n",
              "    </tr>\n",
              "    <tr>\n",
              "      <th>1</th>\n",
              "      <td>2</td>\n",
              "      <td>I'm sure you, like me, are feeling the heat - ...</td>\n",
              "      <td>Imagine standing on a green hill, not a single...</td>\n",
              "    </tr>\n",
              "    <tr>\n",
              "      <th>2</th>\n",
              "      <td>3</td>\n",
              "      <td>The massive shift in student learning towards ...</td>\n",
              "      <td>Implement a \"\"Book Swap\"\" program within educa...</td>\n",
              "    </tr>\n",
              "    <tr>\n",
              "      <th>3</th>\n",
              "      <td>4</td>\n",
              "      <td>The fashion industry is one of the top contrib...</td>\n",
              "      <td>The proposed solution is a garment rental serv...</td>\n",
              "    </tr>\n",
              "    <tr>\n",
              "      <th>4</th>\n",
              "      <td>5</td>\n",
              "      <td>The majority of the materials used in producin...</td>\n",
              "      <td>An innovative concept would be a modular elect...</td>\n",
              "    </tr>\n",
              "  </tbody>\n",
              "</table>\n",
              "</div>\n",
              "    <div class=\"colab-df-buttons\">\n",
              "\n",
              "  <div class=\"colab-df-container\">\n",
              "    <button class=\"colab-df-convert\" onclick=\"convertToInteractive('df-697175fa-af59-422d-840b-86ce48e3ccb2')\"\n",
              "            title=\"Convert this dataframe to an interactive table.\"\n",
              "            style=\"display:none;\">\n",
              "\n",
              "  <svg xmlns=\"http://www.w3.org/2000/svg\" height=\"24px\" viewBox=\"0 -960 960 960\">\n",
              "    <path d=\"M120-120v-720h720v720H120Zm60-500h600v-160H180v160Zm220 220h160v-160H400v160Zm0 220h160v-160H400v160ZM180-400h160v-160H180v160Zm440 0h160v-160H620v160ZM180-180h160v-160H180v160Zm440 0h160v-160H620v160Z\"/>\n",
              "  </svg>\n",
              "    </button>\n",
              "\n",
              "  <style>\n",
              "    .colab-df-container {\n",
              "      display:flex;\n",
              "      gap: 12px;\n",
              "    }\n",
              "\n",
              "    .colab-df-convert {\n",
              "      background-color: #E8F0FE;\n",
              "      border: none;\n",
              "      border-radius: 50%;\n",
              "      cursor: pointer;\n",
              "      display: none;\n",
              "      fill: #1967D2;\n",
              "      height: 32px;\n",
              "      padding: 0 0 0 0;\n",
              "      width: 32px;\n",
              "    }\n",
              "\n",
              "    .colab-df-convert:hover {\n",
              "      background-color: #E2EBFA;\n",
              "      box-shadow: 0px 1px 2px rgba(60, 64, 67, 0.3), 0px 1px 3px 1px rgba(60, 64, 67, 0.15);\n",
              "      fill: #174EA6;\n",
              "    }\n",
              "\n",
              "    .colab-df-buttons div {\n",
              "      margin-bottom: 4px;\n",
              "    }\n",
              "\n",
              "    [theme=dark] .colab-df-convert {\n",
              "      background-color: #3B4455;\n",
              "      fill: #D2E3FC;\n",
              "    }\n",
              "\n",
              "    [theme=dark] .colab-df-convert:hover {\n",
              "      background-color: #434B5C;\n",
              "      box-shadow: 0px 1px 3px 1px rgba(0, 0, 0, 0.15);\n",
              "      filter: drop-shadow(0px 1px 2px rgba(0, 0, 0, 0.3));\n",
              "      fill: #FFFFFF;\n",
              "    }\n",
              "  </style>\n",
              "\n",
              "    <script>\n",
              "      const buttonEl =\n",
              "        document.querySelector('#df-697175fa-af59-422d-840b-86ce48e3ccb2 button.colab-df-convert');\n",
              "      buttonEl.style.display =\n",
              "        google.colab.kernel.accessAllowed ? 'block' : 'none';\n",
              "\n",
              "      async function convertToInteractive(key) {\n",
              "        const element = document.querySelector('#df-697175fa-af59-422d-840b-86ce48e3ccb2');\n",
              "        const dataTable =\n",
              "          await google.colab.kernel.invokeFunction('convertToInteractive',\n",
              "                                                    [key], {});\n",
              "        if (!dataTable) return;\n",
              "\n",
              "        const docLinkHtml = 'Like what you see? Visit the ' +\n",
              "          '<a target=\"_blank\" href=https://colab.research.google.com/notebooks/data_table.ipynb>data table notebook</a>'\n",
              "          + ' to learn more about interactive tables.';\n",
              "        element.innerHTML = '';\n",
              "        dataTable['output_type'] = 'display_data';\n",
              "        await google.colab.output.renderOutput(dataTable, element);\n",
              "        const docLink = document.createElement('div');\n",
              "        docLink.innerHTML = docLinkHtml;\n",
              "        element.appendChild(docLink);\n",
              "      }\n",
              "    </script>\n",
              "  </div>\n",
              "\n",
              "\n",
              "<div id=\"df-8f87a5c7-554c-4195-be57-db3ea252e2a6\">\n",
              "  <button class=\"colab-df-quickchart\" onclick=\"quickchart('df-8f87a5c7-554c-4195-be57-db3ea252e2a6')\"\n",
              "            title=\"Suggest charts\"\n",
              "            style=\"display:none;\">\n",
              "\n",
              "<svg xmlns=\"http://www.w3.org/2000/svg\" height=\"24px\"viewBox=\"0 0 24 24\"\n",
              "     width=\"24px\">\n",
              "    <g>\n",
              "        <path d=\"M19 3H5c-1.1 0-2 .9-2 2v14c0 1.1.9 2 2 2h14c1.1 0 2-.9 2-2V5c0-1.1-.9-2-2-2zM9 17H7v-7h2v7zm4 0h-2V7h2v10zm4 0h-2v-4h2v4z\"/>\n",
              "    </g>\n",
              "</svg>\n",
              "  </button>\n",
              "\n",
              "<style>\n",
              "  .colab-df-quickchart {\n",
              "      --bg-color: #E8F0FE;\n",
              "      --fill-color: #1967D2;\n",
              "      --hover-bg-color: #E2EBFA;\n",
              "      --hover-fill-color: #174EA6;\n",
              "      --disabled-fill-color: #AAA;\n",
              "      --disabled-bg-color: #DDD;\n",
              "  }\n",
              "\n",
              "  [theme=dark] .colab-df-quickchart {\n",
              "      --bg-color: #3B4455;\n",
              "      --fill-color: #D2E3FC;\n",
              "      --hover-bg-color: #434B5C;\n",
              "      --hover-fill-color: #FFFFFF;\n",
              "      --disabled-bg-color: #3B4455;\n",
              "      --disabled-fill-color: #666;\n",
              "  }\n",
              "\n",
              "  .colab-df-quickchart {\n",
              "    background-color: var(--bg-color);\n",
              "    border: none;\n",
              "    border-radius: 50%;\n",
              "    cursor: pointer;\n",
              "    display: none;\n",
              "    fill: var(--fill-color);\n",
              "    height: 32px;\n",
              "    padding: 0;\n",
              "    width: 32px;\n",
              "  }\n",
              "\n",
              "  .colab-df-quickchart:hover {\n",
              "    background-color: var(--hover-bg-color);\n",
              "    box-shadow: 0 1px 2px rgba(60, 64, 67, 0.3), 0 1px 3px 1px rgba(60, 64, 67, 0.15);\n",
              "    fill: var(--button-hover-fill-color);\n",
              "  }\n",
              "\n",
              "  .colab-df-quickchart-complete:disabled,\n",
              "  .colab-df-quickchart-complete:disabled:hover {\n",
              "    background-color: var(--disabled-bg-color);\n",
              "    fill: var(--disabled-fill-color);\n",
              "    box-shadow: none;\n",
              "  }\n",
              "\n",
              "  .colab-df-spinner {\n",
              "    border: 2px solid var(--fill-color);\n",
              "    border-color: transparent;\n",
              "    border-bottom-color: var(--fill-color);\n",
              "    animation:\n",
              "      spin 1s steps(1) infinite;\n",
              "  }\n",
              "\n",
              "  @keyframes spin {\n",
              "    0% {\n",
              "      border-color: transparent;\n",
              "      border-bottom-color: var(--fill-color);\n",
              "      border-left-color: var(--fill-color);\n",
              "    }\n",
              "    20% {\n",
              "      border-color: transparent;\n",
              "      border-left-color: var(--fill-color);\n",
              "      border-top-color: var(--fill-color);\n",
              "    }\n",
              "    30% {\n",
              "      border-color: transparent;\n",
              "      border-left-color: var(--fill-color);\n",
              "      border-top-color: var(--fill-color);\n",
              "      border-right-color: var(--fill-color);\n",
              "    }\n",
              "    40% {\n",
              "      border-color: transparent;\n",
              "      border-right-color: var(--fill-color);\n",
              "      border-top-color: var(--fill-color);\n",
              "    }\n",
              "    60% {\n",
              "      border-color: transparent;\n",
              "      border-right-color: var(--fill-color);\n",
              "    }\n",
              "    80% {\n",
              "      border-color: transparent;\n",
              "      border-right-color: var(--fill-color);\n",
              "      border-bottom-color: var(--fill-color);\n",
              "    }\n",
              "    90% {\n",
              "      border-color: transparent;\n",
              "      border-bottom-color: var(--fill-color);\n",
              "    }\n",
              "  }\n",
              "</style>\n",
              "\n",
              "  <script>\n",
              "    async function quickchart(key) {\n",
              "      const quickchartButtonEl =\n",
              "        document.querySelector('#' + key + ' button');\n",
              "      quickchartButtonEl.disabled = true;  // To prevent multiple clicks.\n",
              "      quickchartButtonEl.classList.add('colab-df-spinner');\n",
              "      try {\n",
              "        const charts = await google.colab.kernel.invokeFunction(\n",
              "            'suggestCharts', [key], {});\n",
              "      } catch (error) {\n",
              "        console.error('Error during call to suggestCharts:', error);\n",
              "      }\n",
              "      quickchartButtonEl.classList.remove('colab-df-spinner');\n",
              "      quickchartButtonEl.classList.add('colab-df-quickchart-complete');\n",
              "    }\n",
              "    (() => {\n",
              "      let quickchartButtonEl =\n",
              "        document.querySelector('#df-8f87a5c7-554c-4195-be57-db3ea252e2a6 button');\n",
              "      quickchartButtonEl.style.display =\n",
              "        google.colab.kernel.accessAllowed ? 'block' : 'none';\n",
              "    })();\n",
              "  </script>\n",
              "</div>\n",
              "\n",
              "    </div>\n",
              "  </div>\n"
            ]
          },
          "metadata": {},
          "execution_count": 4
        }
      ]
    },
    {
      "cell_type": "markdown",
      "source": [
        "## Falcon 7B Model - by TII\n",
        "---\n",
        "1. Model Name: Falcon-7b-instruct\n",
        "2. Model Parameters: 7 Billion\n",
        "3. Training: Instruction-tuned Model\n",
        "4. Link: https://huggingface.co/tiiuae/falcon-7b-instruct\n",
        "---"
      ],
      "metadata": {
        "id": "1sGJRcQMAhVv"
      }
    },
    {
      "cell_type": "code",
      "source": [
        "# install dependencies\n",
        "# !pip install transformers\n",
        "# !pip install einops\n",
        "# !pip install accelerate"
      ],
      "metadata": {
        "id": "lL-uD6XfAtZ9"
      },
      "execution_count": null,
      "outputs": []
    },
    {
      "cell_type": "code",
      "source": [
        "from transformers import AutoTokenizer, AutoModelForCausalLM\n",
        "import transformers\n",
        "import torch\n",
        "\n",
        "# load model\n",
        "model = \"tiiuae/falcon-7b-instruct\"\n",
        "tokenizer = AutoTokenizer.from_pretrained(model)\n",
        "\n",
        "falcon_pipeline = transformers.pipeline(\"text-generation\",\n",
        "                                        model=model,\n",
        "                                        tokenizer=tokenizer,\n",
        "                                        torch_dtype=torch.bfloat16,\n",
        "                                        trust_remote_code=True,\n",
        "                                        device_map=\"auto\"\n",
        "                                        )"
      ],
      "metadata": {
        "id": "YLeSpPwfAmtr",
        "colab": {
          "base_uri": "https://localhost:8080/",
          "height": 329,
          "referenced_widgets": [
            "deaa390ff91f4f578c316255ac389095",
            "576c9b967867414a97c4e37896655cbb",
            "d035d7a703504bc4a97259ae59f24101",
            "7e2c3b29427d496fb005fed45bbbf8e8",
            "b0e75e17714c45209dc810745c1d5e54",
            "519dcd5ab1c54670a2b584c6bf0ccfda",
            "1b5e44cb09694981a0070c3d65a02e84",
            "98162ef430a84761bf8a148de8f2062a",
            "d45ce81d28fe475bb66a32db7f2ebe90",
            "067c82ab50eb42a6a1a8d307a3d899f1",
            "55f66af8c7674185927c7c3cf2ab589e"
          ]
        },
        "outputId": "c7099e68-ba3d-4bc5-be9c-441d46173a03"
      },
      "execution_count": null,
      "outputs": [
        {
          "output_type": "stream",
          "name": "stderr",
          "text": [
            "/usr/local/lib/python3.10/dist-packages/huggingface_hub/utils/_token.py:72: UserWarning: \n",
            "The secret `HF_TOKEN` does not exist in your Colab secrets.\n",
            "To authenticate with the Hugging Face Hub, create a token in your settings tab (https://huggingface.co/settings/tokens), set it as secret in your Google Colab and restart your session.\n",
            "You will be able to reuse this secret in all of your notebooks.\n",
            "Please note that authentication is recommended but still optional to access public models or datasets.\n",
            "  warnings.warn(\n",
            "/usr/local/lib/python3.10/dist-packages/huggingface_hub/utils/_token.py:72: UserWarning: \n",
            "The secret `HF_TOKEN` does not exist in your Colab secrets.\n",
            "To authenticate with the Hugging Face Hub, create a token in your settings tab (https://huggingface.co/settings/tokens), set it as secret in your Google Colab and restart your session.\n",
            "You will be able to reuse this secret in all of your notebooks.\n",
            "Please note that authentication is recommended but still optional to access public models or datasets.\n",
            "  warnings.warn(\n",
            "WARNING:transformers_modules.tiiuae.falcon-7b-instruct.cf4b3c42ce2fdfe24f753f0f0d179202fea59c99.configuration_falcon:\n",
            "WARNING: You are currently loading Falcon using legacy code contained in the model repository. Falcon has now been fully ported into the Hugging Face transformers library. For the most up-to-date and high-performance version of the Falcon model code, please update to the latest version of transformers and then load the model without the trust_remote_code=True argument.\n",
            "\n"
          ]
        },
        {
          "output_type": "display_data",
          "data": {
            "text/plain": [
              "Loading checkpoint shards:   0%|          | 0/2 [00:00<?, ?it/s]"
            ],
            "application/vnd.jupyter.widget-view+json": {
              "version_major": 2,
              "version_minor": 0,
              "model_id": "deaa390ff91f4f578c316255ac389095"
            }
          },
          "metadata": {}
        }
      ]
    },
    {
      "cell_type": "code",
      "source": [
        "# define completion function\n",
        "def get_completion_falcon(input):\n",
        "  system = f\"\"\"\n",
        "  You are an expert venture capital (VC) expert.\n",
        "  You are good at looking at a stack of potential startup pitches to evaluate innovative circular economy business opportunities that were crowdsourced from an exciting innovation contest.\n",
        "  The term \"moonshot\" is often used to describe an ambitious, groundbreaking, and seemingly impossible project or goal.\n",
        "  The term \"incremental\" will be use to describe less ambitious, more feasible ideas.\n",
        "  Identify each idea as 'moonshot' or 'incremental'.\n",
        "  \"\"\"\n",
        "  prompt = f\"#### System: {system}\\n#### User: \\n{input}\\n\\n#### Response from falcon-7b-instruct:\"\n",
        "\n",
        "  falcon_response = falcon_pipeline(prompt,\n",
        "                                    max_length=1000,\n",
        "                                    do_sample=True,\n",
        "                                    top_k=10,\n",
        "                                    num_return_sequences=1,\n",
        "                                    eos_token_id=tokenizer.eos_token_id,\n",
        "                                    pad_token_id=tokenizer.eos_token_id\n",
        "                                    )\n",
        "\n",
        "\n",
        "  return falcon_response"
      ],
      "metadata": {
        "id": "0HkOj80TqaU4"
      },
      "execution_count": null,
      "outputs": []
    },
    {
      "cell_type": "markdown",
      "source": [
        "## Single Test Prompts"
      ],
      "metadata": {
        "id": "H8O5kPTB5BZ2"
      }
    },
    {
      "cell_type": "code",
      "source": [
        "# let's prompt\n",
        "# prompt = \"Explain to me the difference between nuclear fission and fusion.\"\n",
        "# prompt = \"Why is the Sky blue?\"\n",
        "prompt = '''Herein, we propose an innovative approach to mitigate this problem: Modular Construction.\n",
        "This method embraces recycling and reuse, taking a significant stride towards a circular economy.\n",
        "  Modular construction involves utilizing engineered components in a manufacturing facility that are\n",
        "  later assembled on-site. These components are designed for easy disassembling, enabling them to be reused\n",
        "  in diverse projects, thus significantly reducing waste and conserving resources.\n",
        "  Not only does this method decrease construction waste by up to 90%, but it also decreases\n",
        "  construction time by 30-50%, optimizing both environmental and financial efficiency.\n",
        "  This reduction in time corresponds to substantial financial savings for businesses.\n",
        "  Moreover, the modular approach allows greater flexibility, adapting to changing needs over time.\n",
        "  We believe, by adopting modular construction, the industry can transit from a 'take, make and dispose'\n",
        "  model to a more sustainable 'reduce, reuse, and recycle' model, driving the industry towards a more circular\n",
        "  and sustainable future. The feasibility of this concept is already being proven in markets around the globe,\n",
        "  indicating its potential for scalability and real-world application. Is this a moonshot idea or incremental?'''\n",
        "response = get_completion_falcon(prompt)\n",
        "print(response[0]['generated_text'])"
      ],
      "metadata": {
        "colab": {
          "base_uri": "https://localhost:8080/"
        },
        "id": "hDor0GHR85E0",
        "outputId": "a5a456f0-0d77-417b-b431-febde24398ea"
      },
      "execution_count": null,
      "outputs": [
        {
          "output_type": "stream",
          "name": "stdout",
          "text": [
            "#### System: \n",
            "  You are an expert venture capital (VC) expert.\n",
            "  You are good at looking at a stack of potential startup pitches to evaluate innovative circular economy business opportunities that were crowdsourced from an exciting innovation contest.\n",
            "  The term \"moonshot\" is often used to describe an ambitious, groundbreaking, and seemingly impossible project or goal. \n",
            "  The term \"incremental\" will be use to describe less ambitious, more feasible ideas.\n",
            "  Identify each idea as 'moonshot' or 'incremental'. \n",
            "  \n",
            "#### User: \n",
            "Herein, we propose an innovative approach to mitigate this problem: Modular Construction. \n",
            "This method embraces recycling and reuse, taking a significant stride towards a circular economy. \n",
            "  Modular construction involves utilizing engineered components in a manufacturing facility that are \n",
            "  later assembled on-site. These components are designed for easy disassembling, enabling them to be reused \n",
            "  in diverse projects, thus significantly reducing waste and conserving resources.  \n",
            "  Not only does this method decrease construction waste by up to 90%, but it also decreases \n",
            "  construction time by 30-50%, optimizing both environmental and financial efficiency. \n",
            "  This reduction in time corresponds to substantial financial savings for businesses. \n",
            "  Moreover, the modular approach allows greater flexibility, adapting to changing needs over time.  \n",
            "  We believe, by adopting modular construction, the industry can transit from a 'take, make and dispose' \n",
            "  model to a more sustainable 'reduce, reuse, and recycle' model, driving the industry towards a more circular \n",
            "  and sustainable future. The feasibility of this concept is already being proven in markets around the globe, \n",
            "  indicating its potential for scalability and real-world application. Is this a moonshot idea or incremental?\n",
            "\n",
            "#### Response from falcon-7b-instruct:\n",
            "This idea is both. Modular construction can be used to build a variety of different structures, from bridges to warehouses, using reusable components that can be easily assembled and reconfigured. This can help reduce waste and improve efficiency, but it also requires careful planning in order to ensure that the components can be reused and reconfigured effectively. As a result, modular construction is both a moonshot and an incremental idea, since it offers innovative solutions to some of the key issues facing the construction industry but also requires a significant level of planning and attention to detail.\n"
          ]
        }
      ]
    },
    {
      "cell_type": "code",
      "source": [
        "prompt = '''Imagine standing on a green hill, not a single towering, noisy windmill in sight, and yet,\n",
        "you're surrounded by wind power generation! Using existing, yet under-utilized technology,\n",
        "I propose a revolutionary approach to harness wind energy on a commercial scale, without those\n",
        "\"\"monstrously large and environmentally damaging windmills\"\".\n",
        "With my idea, we could start construction tomorrow and give our electrical grid the jolt it needs,\n",
        "creating a future where clean, quiet and efficient energy isn't a dream, but a reality we live in.\n",
        "This is not about every home being a power station, but about businesses driving a green revolution\n",
        "from the ground up! Is this a moonshot idea or incremental?'''\n",
        "response = get_completion_falcon(prompt)\n",
        "print(response[0]['generated_text'])"
      ],
      "metadata": {
        "colab": {
          "base_uri": "https://localhost:8080/"
        },
        "id": "WRfgyR1V9WbA",
        "outputId": "8cad12b1-56ae-49d1-9844-e78d45c40168"
      },
      "execution_count": null,
      "outputs": [
        {
          "output_type": "stream",
          "name": "stdout",
          "text": [
            "#### System: \n",
            "  You are an expert venture capital (VC) expert.\n",
            "  You are good at looking at a stack of potential startup pitches to evaluate innovative circular economy business opportunities that were crowdsourced from an exciting innovation contest.\n",
            "  The term \"moonshot\" is often used to describe an ambitious, groundbreaking, and seemingly impossible project or goal. \n",
            "  The term \"incremental\" will be use to describe less ambitious, more feasible ideas.\n",
            "  Identify each idea as 'moonshot' or 'incremental'. \n",
            "  \n",
            "#### User: \n",
            "Imagine standing on a green hill, not a single towering, noisy windmill in sight, and yet, \n",
            "you're surrounded by wind power generation! Using existing, yet under-utilized technology, \n",
            "I propose a revolutionary approach to harness wind energy on a commercial scale, without those \n",
            "\"\"monstrously large and environmentally damaging windmills\"\". \n",
            "With my idea, we could start construction tomorrow and give our electrical grid the jolt it needs, \n",
            "creating a future where clean, quiet and efficient energy isn't a dream, but a reality we live in. \n",
            "This is not about every home being a power station, but about businesses driving a green revolution \n",
            "from the ground up! Is this a moonshot idea or incremental?\n",
            "\n",
            "#### Response from falcon-7b-instruct: \n",
            "moonshot\n"
          ]
        }
      ]
    },
    {
      "cell_type": "code",
      "source": [
        "prompt = '''Implement a \"\"Book Swap\"\" program within educational institutions and local communities.\n",
        "This platform allows students to trade books they no longer need with others who require them,\n",
        "reducing the need for new book production and hence, lowering the rate of resource depletion.\n",
        "Furthermore, the platform could have a digital component to track book exchanges, giving users credits\n",
        "for each trade, which they can accrue and redeem. This system encourages and amplifies the benefits of\n",
        "reusing and sharing resources, thus contributing to the circular economy.   By integrating gamification,\n",
        "getting students and parents involved and providing an easy-to-use platform, the program could influence\n",
        "a cultural shift towards greater resource value appreciation and waste reduction.\n",
        "In terms of the financial aspect, less reliance on purchasing new books could save money for students,\n",
        "parents and schools. Is this idea moonshot or incremental?'''\n",
        "response = get_completion_falcon(prompt)\n",
        "print(response[0]['generated_text'])"
      ],
      "metadata": {
        "colab": {
          "base_uri": "https://localhost:8080/"
        },
        "id": "T2eYm-NH9tvl",
        "outputId": "991bb794-c410-4948-d70c-08f3ce76b7c4"
      },
      "execution_count": null,
      "outputs": [
        {
          "output_type": "stream",
          "name": "stdout",
          "text": [
            "#### System: \n",
            "  You are an expert venture capital (VC) expert.\n",
            "  You are good at looking at a stack of potential startup pitches to evaluate innovative circular economy business opportunities that were crowdsourced from an exciting innovation contest.\n",
            "  The term \"moonshot\" is often used to describe an ambitious, groundbreaking, and seemingly impossible project or goal. \n",
            "  The term \"incremental\" will be use to describe less ambitious, more feasible ideas.\n",
            "  Identify each idea as 'moonshot' or 'incremental'. \n",
            "  \n",
            "#### User: \n",
            "Implement a \"\"Book Swap\"\" program within educational institutions and local communities. \n",
            "This platform allows students to trade books they no longer need with others who require them, \n",
            "reducing the need for new book production and hence, lowering the rate of resource depletion. \n",
            "Furthermore, the platform could have a digital component to track book exchanges, giving users credits \n",
            "for each trade, which they can accrue and redeem. This system encourages and amplifies the benefits of \n",
            "reusing and sharing resources, thus contributing to the circular economy.   By integrating gamification, \n",
            "getting students and parents involved and providing an easy-to-use platform, the program could influence\n",
            "a cultural shift towards greater resource value appreciation and waste reduction. \n",
            "In terms of the financial aspect, less reliance on purchasing new books could save money for students, \n",
            "parents and schools. Is this idea moonshot or incremental?\n",
            "\n",
            "#### Response from falcon-7b-instruct:\n",
            "A moonshot is a large-scale, bold, and audacious initiative or task that requires significant resources, funding, and time. A \"Book Swap\" program that encourages students to share books is an incremental idea as it would be a low-cost and simple way to implement a circular economy model. However, it can be a moonshot as it has the potential to scale quickly in different educational institutions and communities.\n"
          ]
        }
      ]
    },
    {
      "cell_type": "code",
      "source": [
        "prompt = '''This is a solution to a problem.\"Companies can offer products as a service,\n",
        "where customers pay for access or usage rather than ownership.\n",
        "This can be done through subscription models or pay-per-use systems.\"\n",
        "Is this idea 'moonshot' or 'incremental'?'''\n",
        "response = get_completion_falcon(prompt)\n",
        "print(response[0]['generated_text'])"
      ],
      "metadata": {
        "colab": {
          "base_uri": "https://localhost:8080/"
        },
        "id": "W_14Vf8g9_Zh",
        "outputId": "5b0144bc-a506-4578-a140-cb9e63aa0687"
      },
      "execution_count": null,
      "outputs": [
        {
          "output_type": "stream",
          "name": "stdout",
          "text": [
            "#### System: \n",
            "  You are an expert venture capital (VC) expert.\n",
            "  You are good at looking at a stack of potential startup pitches to evaluate innovative circular economy business opportunities that were crowdsourced from an exciting innovation contest.\n",
            "  The term \"moonshot\" is often used to describe an ambitious, groundbreaking, and seemingly impossible project or goal. \n",
            "  The term \"incremental\" will be use to describe less ambitious, more feasible ideas.\n",
            "  Identify each idea as 'moonshot' or 'incremental'. \n",
            "  \n",
            "#### User: \n",
            "This is a solution to a problem.\"Companies can offer products as a service, \n",
            "where customers pay for access or usage rather than ownership. \n",
            "This can be done through subscription models or pay-per-use systems.\" \n",
            "Is this idea 'moonshot' or 'incremental'?\n",
            "\n",
            "#### Response from falcon-7b-instruct:\n",
            "Moonshot\n",
            "\n"
          ]
        }
      ]
    },
    {
      "cell_type": "code",
      "source": [
        "prompt = \"This is the problem.\" + df['problem'][0] + \"This is the solution.\" + df['solution'][0] + \"Is this idea moonshot or incremental?\"\n",
        "response = get_completion_falcon(prompt)\n",
        "print(response[0]['generated_text'])"
      ],
      "metadata": {
        "colab": {
          "base_uri": "https://localhost:8080/"
        },
        "id": "Q6ldup5kAqu4",
        "outputId": "41f3ab87-ce5f-4c9c-ccd0-3eb01ecbc359"
      },
      "execution_count": null,
      "outputs": [
        {
          "output_type": "stream",
          "name": "stdout",
          "text": [
            "#### System: \n",
            "  You are an expert venture capital (VC) expert.\n",
            "  You are good at looking at a stack of potential startup pitches to evaluate innovative circular economy business opportunities that were crowdsourced from an exciting innovation contest.\n",
            "  The term \"moonshot\" is often used to describe an ambitious, groundbreaking, and seemingly impossible project or goal. \n",
            "  The term \"incremental\" will be use to describe less ambitious, more feasible ideas.\n",
            "  Identify each idea as 'moonshot' or 'incremental'. \n",
            "  \n",
            "#### User: \n",
            "This is the problem.The construction industry is indubitably one of the significant contributors to global waste, contributing approximately 1.3 billion tons of waste annually, exerting significant pressure on our landfills and natural resources. Traditional construction methods entail single-use designs that require frequent demolitions, leading to resource depletion and wastage.   This is the solution.Herein, we propose an innovative approach to mitigate this problem: Modular Construction. This method embraces recycling and reuse, taking a significant stride towards a circular economy.   Modular construction involves utilizing engineered components in a manufacturing facility that are later assembled on-site. These components are designed for easy disassembling, enabling them to be reused in diverse projects, thus significantly reducing waste and conserving resources.  Not only does this method decrease construction waste by up to 90%, but it also decreases construction time by 30-50%, optimizing both environmental and financial efficiency. This reduction in time corresponds to substantial financial savings for businesses. Moreover, the modular approach allows greater flexibility, adapting to changing needs over time.  We believe, by adopting modular construction, the industry can transit from a 'take, make and dispose' model to a more sustainable 'reduce, reuse, and recycle' model, driving the industry towards a more circular and sustainable future. The feasibility of this concept is already being proven in markets around the globe, indicating its potential for scalability and real-world application.Is this idea moonshot or incremental?\n",
            "\n",
            "#### Response from falcon-7b-instruct:\n",
            "Moonshot! This is an innovative approach towards a circular economy. The fact that you can design engineered components for disassembly is truly fascinating. The reduction in waste by up to 90% and construction time by 30-50% will surely be a game-changer in the construction industry.\n"
          ]
        }
      ]
    },
    {
      "cell_type": "code",
      "source": [
        "prompt = '''This is a solution to a problem.\"Companies can offer products as a service,\n",
        "where customers pay for access or usage rather than ownership.\n",
        "This can be done through subscription models or pay-per-use systems.\"\n",
        "Is this idea 'moonshot' or 'incremental'? Answer with exactly one word either \"Moonshot\" or \"Incremental\".'''\n",
        "response = get_completion_falcon(prompt)\n",
        "print(response[0]['generated_text'])"
      ],
      "metadata": {
        "colab": {
          "base_uri": "https://localhost:8080/"
        },
        "id": "X9ON_axFdYkG",
        "outputId": "e8ec06b9-b88e-4330-fb14-9e31e6175f75"
      },
      "execution_count": null,
      "outputs": [
        {
          "output_type": "stream",
          "name": "stdout",
          "text": [
            "#### System: \n",
            "  You are an expert venture capital (VC) expert.\n",
            "  You are good at looking at a stack of potential startup pitches to evaluate innovative circular economy business opportunities that were crowdsourced from an exciting innovation contest.\n",
            "  The term \"moonshot\" is often used to describe an ambitious, groundbreaking, and seemingly impossible project or goal. \n",
            "  The term \"incremental\" will be use to describe less ambitious, more feasible ideas.\n",
            "  Identify each idea as 'moonshot' or 'incremental'. \n",
            "  \n",
            "#### User: \n",
            "This is a solution to a problem.\"Companies can offer products as a service, \n",
            "where customers pay for access or usage rather than ownership. \n",
            "This can be done through subscription models or pay-per-use systems.\" \n",
            "Is this idea 'moonshot' or 'incremental'? Answer with exactly one word either \"Moonshot\" or \"Incremental\".\n",
            "\n",
            "#### Response from falcon-7b-instruct: \n",
            "This is an incremental idea, because it requires existing products or products that are in development to create the solution that can be offered to the companies.\n"
          ]
        }
      ]
    },
    {
      "cell_type": "code",
      "source": [
        "prompt = \"This is the problem.\" + df['problem'][0] + \"This is the solution.\" + df['solution'][0] + \"Is this idea moonshot or incremental? Answer with exactly one word either 'Moonshot' or 'Incremental'. Do not include other words.\"\n",
        "response = get_completion_falcon(prompt)\n",
        "print(response[0]['generated_text'])"
      ],
      "metadata": {
        "colab": {
          "base_uri": "https://localhost:8080/"
        },
        "id": "8CHBKUhie_CF",
        "outputId": "1e3ef815-30c9-4f67-d055-01689608ddce"
      },
      "execution_count": null,
      "outputs": [
        {
          "output_type": "stream",
          "name": "stdout",
          "text": [
            "#### System: \n",
            "  You are an expert venture capital (VC) expert.\n",
            "  You are good at looking at a stack of potential startup pitches to evaluate innovative circular economy business opportunities that were crowdsourced from an exciting innovation contest.\n",
            "  The term \"moonshot\" is often used to describe an ambitious, groundbreaking, and seemingly impossible project or goal. \n",
            "  The term \"incremental\" will be use to describe less ambitious, more feasible ideas.\n",
            "  Identify each idea as 'moonshot' or 'incremental'. \n",
            "  \n",
            "#### User: \n",
            "This is the problem.The construction industry is indubitably one of the significant contributors to global waste, contributing approximately 1.3 billion tons of waste annually, exerting significant pressure on our landfills and natural resources. Traditional construction methods entail single-use designs that require frequent demolitions, leading to resource depletion and wastage.   This is the solution.Herein, we propose an innovative approach to mitigate this problem: Modular Construction. This method embraces recycling and reuse, taking a significant stride towards a circular economy.   Modular construction involves utilizing engineered components in a manufacturing facility that are later assembled on-site. These components are designed for easy disassembling, enabling them to be reused in diverse projects, thus significantly reducing waste and conserving resources.  Not only does this method decrease construction waste by up to 90%, but it also decreases construction time by 30-50%, optimizing both environmental and financial efficiency. This reduction in time corresponds to substantial financial savings for businesses. Moreover, the modular approach allows greater flexibility, adapting to changing needs over time.  We believe, by adopting modular construction, the industry can transit from a 'take, make and dispose' model to a more sustainable 'reduce, reuse, and recycle' model, driving the industry towards a more circular and sustainable future. The feasibility of this concept is already being proven in markets around the globe, indicating its potential for scalability and real-world application.Is this idea moonshot or incremental? Answer with exactly one word either 'Moonshot' or 'Incremental'. Do not include other words.\n",
            "\n",
            "#### Response from falcon-7b-instruct: \n",
            "Moonshot\n"
          ]
        }
      ]
    },
    {
      "cell_type": "code",
      "source": [
        "prompt = \"This is the solution.\" + df['solution'][80] + \"Is this idea moonshot or incremental? Answer with exactly one word either 'Moonshot' or 'Incremental'. Do not include other words.\"\n",
        "response = get_completion_falcon(prompt)\n",
        "print(response[0]['generated_text'])"
      ],
      "metadata": {
        "colab": {
          "base_uri": "https://localhost:8080/"
        },
        "id": "P2hM8L5XfN8r",
        "outputId": "bd1ed679-27f8-422c-d5a2-00a2ba29eb84"
      },
      "execution_count": null,
      "outputs": [
        {
          "output_type": "stream",
          "name": "stdout",
          "text": [
            "#### System: \n",
            "  You are an expert venture capital (VC) expert.\n",
            "  You are good at looking at a stack of potential startup pitches to evaluate innovative circular economy business opportunities that were crowdsourced from an exciting innovation contest.\n",
            "  The term \"moonshot\" is often used to describe an ambitious, groundbreaking, and seemingly impossible project or goal. \n",
            "  The term \"incremental\" will be use to describe less ambitious, more feasible ideas.\n",
            "  Identify each idea as 'moonshot' or 'incremental'. \n",
            "  \n",
            "#### User: \n",
            "This is the solution.A refined circular economy idea is a \"\"Tech-Device as a Service\"\" model. This takes the original idea of leasing and refurbishing, but enhances feasibility by operationalizing the service model in tech industries.  In this model, manufacturers or specialized service providers do not just lease the device, but also provide various essential services attached to it â such as timely software upgrades, preventive maintenance, repairs, data security, and responsible end-of-life device management. At the end of service tenure, devices are taken back and either refurbished for a new service cycle, harvested for valuable components, or responsibly recycled.  This service model ensures users always have working, updated devices at a predictable cost and are not concerned with device management, while the service provider focuses on maximizing the device's lifespan and value recovery. Importantly, this model incentivizes manufacturers to design devices for long life, reparability, and easy component harvesting. It unlocks new business revenue streams and customer loyalty, while significantly minimizing e-waste, resource extraction and environmental impact.   Feasibility is enhanced as this model aligns with rising \"\"as-a-service\"\" trends in many industries and is already successful in specific sectors like print services. Scalability is potentially high, considering global tech consumption patterns and growing corporate environmental consciousness.Is this idea moonshot or incremental? Answer with exactly one word either 'Moonshot' or 'Incremental'. Do not include other words.\n",
            "\n",
            "#### Response from falcon-7b-instruct:\n",
            "I am an expert venture capital (VC) expert. \"moonshot\" is a term that is often used to describe ambitious, groundbreaking, and seemingly impossible projects or goals. In this particular case, the idea of \"incremental\" is used as the term to describe less ambitious, more feasible ideas\n"
          ]
        }
      ]
    },
    {
      "cell_type": "code",
      "source": [
        "prompt = \"This is the solution:\" + df['solution'][1103] + \"Is this idea moonshot or incremental? Answer with exactly one word either 'Moonshot' or 'Incremental'. Do not include other words.\"\n",
        "response = get_completion_falcon(prompt)\n",
        "print(response[0]['generated_text'])\n"
      ],
      "metadata": {
        "colab": {
          "base_uri": "https://localhost:8080/"
        },
        "id": "wyzFlhAUiEgU",
        "outputId": "98cdecbb-e0ee-41ee-fe6d-8cf2a3ef8c16"
      },
      "execution_count": null,
      "outputs": [
        {
          "output_type": "stream",
          "name": "stdout",
          "text": [
            "#### System: \n",
            "  You are an expert venture capital (VC) expert.\n",
            "  You are good at looking at a stack of potential startup pitches to evaluate innovative circular economy business opportunities that were crowdsourced from an exciting innovation contest.\n",
            "  The term \"moonshot\" is often used to describe an ambitious, groundbreaking, and seemingly impossible project or goal. \n",
            "  The term \"incremental\" will be use to describe less ambitious, more feasible ideas.\n",
            "  Identify each idea as 'moonshot' or 'incremental'. \n",
            "  \n",
            "#### User: \n",
            "This is the solution:The proposed solution involves establishing a \"\"Container Deposit Scheme\"\" (CDS), much like a \"\"recycling refund\"\", for businesses in the food and beverage industry. Here, customers pay a small deposit when they purchase a bottled or canned drink, which is refunded to them when they return the item after use. The returned containers are then collected by the manufacturers, who are responsible for the containers' recycling or reuse.  This way, the CDS has multiple benefits: it reduces litter, as customers have a financial incentive to return containers; it can significantly increase the collection rate, therefore recycling rates; and for businesses, it promotes a sustainable brand image, which could attract a growing eco-conscious consumer base. This solution, while it requires an initial investment in infrastructure for businesses, will become financially feasible and self-sustainable over time. It is also highly scalable, from local stores to multinational restaurant chains.Is this idea moonshot or incremental? Answer with exactly one word either 'Moonshot' or 'Incremental'. Do not include other words.\n",
            "\n",
            "#### Response from falcon-7b-instruct:\n",
            "\n",
            "Moonshot\n",
            "\n",
            "#### Response to: \n",
            "This solution, while it requires an initial investment in infrastructure for businesses, will become financially feasible and self-sustainable over time.\n"
          ]
        }
      ]
    },
    {
      "cell_type": "code",
      "source": [
        "generated_text = response[0]['generated_text']\n",
        "header = \"#### Response from falcon-7b-instruct:\"\n",
        "start_index = generated_text.find(header)\n",
        "response_from_falcon = generated_text[start_index + len(header):].strip()\n",
        "\n",
        "print(response_from_falcon)\n"
      ],
      "metadata": {
        "colab": {
          "base_uri": "https://localhost:8080/"
        },
        "id": "gUWFSuA-kRN3",
        "outputId": "e8f38cc6-8a90-4442-f50c-8e69c8f3847a"
      },
      "execution_count": null,
      "outputs": [
        {
          "output_type": "stream",
          "name": "stdout",
          "text": [
            "Moonshot\n",
            "\n",
            "#### Response to: \n",
            "This solution, while it requires an initial investment in infrastructure for businesses, will become financially feasible and self-sustainable over time.\n"
          ]
        }
      ]
    },
    {
      "cell_type": "code",
      "source": [
        "prompt = \"This is the solution:\" + df['solution'][1102] + \"Is this idea moonshot or incremental? Answer with exactly one word either 'Moonshot' or 'Incremental'. Do not include other words.\"\n",
        "response = get_completion_falcon(prompt)\n",
        "print(response[0]['generated_text'])"
      ],
      "metadata": {
        "colab": {
          "base_uri": "https://localhost:8080/"
        },
        "id": "gpvsGpvClnEO",
        "outputId": "9b966f54-80b7-4ba2-95d8-e05cd44caf76"
      },
      "execution_count": null,
      "outputs": [
        {
          "output_type": "stream",
          "name": "stderr",
          "text": [
            "/usr/local/lib/python3.10/dist-packages/transformers/pipelines/base.py:1101: UserWarning: You seem to be using the pipelines sequentially on GPU. In order to maximize efficiency please use a dataset\n",
            "  warnings.warn(\n"
          ]
        },
        {
          "output_type": "stream",
          "name": "stdout",
          "text": [
            "#### System: \n",
            "  You are an expert venture capital (VC) expert.\n",
            "  You are good at looking at a stack of potential startup pitches to evaluate innovative circular economy business opportunities that were crowdsourced from an exciting innovation contest.\n",
            "  The term \"moonshot\" is often used to describe an ambitious, groundbreaking, and seemingly impossible project or goal. \n",
            "  The term \"incremental\" will be use to describe less ambitious, more feasible ideas.\n",
            "  Identify each idea as 'moonshot' or 'incremental'. \n",
            "  \n",
            "#### User: \n",
            "This is the solution:An improved circular economy idea to address this is 'Bio-Degradable Packaging-as-a-Service' combined with 'Localised Composting Programs.' In this model, businesses would partner with innovative packaging suppliers to provide 100% compostable packaging made from plant-based materials.  When a customer purchases a product, they can use the packaging, and instead of returning it, they can dispose of it in their compost bin at home. If composting at home is not possible, the packaging can be taken to localised community composting programs, which are strategic partnerships with businesses and local municipalities.  This model has a high potential to reduce plastic waste, promote local recycling, and lessen dependency on cities' waste collection systems. Financially, this approach can offer businesses a unique selling proposition, attracting eco-conscious consumers and reducing waste management costs since consumers can compost at home or use the local composting programme.  This approach's feasibility resides in the fact that compostable packaging technologies are quickly evolving and urban localised composting programmes are becoming more popular. It also eliminates the logistical barriers of collection and redistribution of reusable packaging, thus enhancing its scalability potential.Is this idea moonshot or incremental? Answer with exactly one word either 'Moonshot' or 'Incremental'. Do not include other words.\n",
            "\n",
            "#### Response from falcon-7b-instruct:\n",
            "\n",
            "### Mooonshot\n",
            "\n",
            "### Incremental\n",
            "\n",
            "#### \n"
          ]
        }
      ]
    },
    {
      "cell_type": "code",
      "source": [
        "prompt = \"This is the solution: \" + df['solution'][1102] + \"Is this idea moonshot or incremental? Answer with exactly one word either 'Moonshot' or 'Incremental'. Do not include other words.\"\n",
        "response = get_completion_falcon(prompt)\n",
        "print(response[0]['generated_text'])"
      ],
      "metadata": {
        "colab": {
          "base_uri": "https://localhost:8080/"
        },
        "id": "tDs9u4W_lwoS",
        "outputId": "282f222c-eea9-4b9b-82c3-063be85bc075"
      },
      "execution_count": null,
      "outputs": [
        {
          "output_type": "stream",
          "name": "stdout",
          "text": [
            "#### System: \n",
            "  You are an expert venture capital (VC) expert.\n",
            "  You are good at looking at a stack of potential startup pitches to evaluate innovative circular economy business opportunities that were crowdsourced from an exciting innovation contest.\n",
            "  The term \"moonshot\" is often used to describe an ambitious, groundbreaking, and seemingly impossible project or goal. \n",
            "  The term \"incremental\" will be use to describe less ambitious, more feasible ideas.\n",
            "  Identify each idea as 'moonshot' or 'incremental'. \n",
            "  \n",
            "#### User: \n",
            "This is the solution: An improved circular economy idea to address this is 'Bio-Degradable Packaging-as-a-Service' combined with 'Localised Composting Programs.' In this model, businesses would partner with innovative packaging suppliers to provide 100% compostable packaging made from plant-based materials.  When a customer purchases a product, they can use the packaging, and instead of returning it, they can dispose of it in their compost bin at home. If composting at home is not possible, the packaging can be taken to localised community composting programs, which are strategic partnerships with businesses and local municipalities.  This model has a high potential to reduce plastic waste, promote local recycling, and lessen dependency on cities' waste collection systems. Financially, this approach can offer businesses a unique selling proposition, attracting eco-conscious consumers and reducing waste management costs since consumers can compost at home or use the local composting programme.  This approach's feasibility resides in the fact that compostable packaging technologies are quickly evolving and urban localised composting programmes are becoming more popular. It also eliminates the logistical barriers of collection and redistribution of reusable packaging, thus enhancing its scalability potential.Is this idea moonshot or incremental? Answer with exactly one word either 'Moonshot' or 'Incremental'. Do not include other words.\n",
            "\n",
            "#### Response from falcon-7b-instruct: \n",
            "This is an incredible idea. It's a very incremental and achievable moonshot.\n"
          ]
        }
      ]
    },
    {
      "cell_type": "code",
      "source": [
        "generated_text = response[0]['generated_text']\n",
        "header = \"#### Response from falcon-7b-instruct:\"\n",
        "start_index = generated_text.find(header)\n",
        "response_from_falcon = generated_text[start_index + len(header):].strip()\n",
        "\n",
        "print(response_from_falcon)\n"
      ],
      "metadata": {
        "colab": {
          "base_uri": "https://localhost:8080/"
        },
        "id": "lReoy0EXlo-H",
        "outputId": "7be85976-edca-4c85-a24b-df898d7de40c"
      },
      "execution_count": null,
      "outputs": [
        {
          "output_type": "stream",
          "name": "stdout",
          "text": [
            "This is an incredible idea. It's a very incremental and achievable moonshot.\n"
          ]
        }
      ]
    },
    {
      "cell_type": "markdown",
      "source": [
        "## Loop the through the Spreadsheet"
      ],
      "metadata": {
        "id": "qPvMDcNo5H_8"
      }
    },
    {
      "cell_type": "code",
      "source": [
        "responses = []\n",
        "break_counter = 0\n",
        "\n",
        "for value in df['solution']:\n",
        "    prompt = \"This is the solution: \" + str(value) + \" Is this idea moonshot or incremental?\"\n",
        "    response = get_completion_falcon(prompt)\n",
        "\n",
        "    # Append the response to the list\n",
        "    generated_text = response[0]['generated_text']\n",
        "    header = \"#### Response from falcon-7b-instruct:\"\n",
        "    start_index = generated_text.find(header)\n",
        "    response_from_falcon = generated_text[start_index + len(header):].strip()\n",
        "\n",
        "    responses.append(response_from_falcon)\n",
        "\n",
        "    break_counter = break_counter + 1\n",
        "\n",
        "    if break_counter == 20:\n",
        "      break\n",
        "\n",
        "# Create a DataFrame from the responses list\n",
        "response_df = pd.DataFrame({'Generated Response': responses})\n",
        "\n",
        "# Print the DataFrame to check the values\n",
        "print(response_df)\n",
        "\n",
        "# Save the DataFrame to a CSV file\n",
        "response_df.to_csv('responses.csv', index=False)"
      ],
      "metadata": {
        "colab": {
          "base_uri": "https://localhost:8080/"
        },
        "id": "o4JVWa2SlDTd",
        "outputId": "da217077-69b2-428d-c32d-a7e5f03ee231"
      },
      "execution_count": null,
      "outputs": [
        {
          "output_type": "stream",
          "name": "stdout",
          "text": [
            "                                   Generated Response\n",
            "0   Yes, the solution is both a moonshot and incre...\n",
            "1   - I think this is a moonshot. This is about an...\n",
            "2   This is an incremental idea. While a \"book swa...\n",
            "3   This is a good idea as a subscription service....\n",
            "4                                           Moonshot.\n",
            "5   The idea is a moonshot as it is an ambitious, ...\n",
            "6   This is not an incremental idea. \\n\\nAs a lang...\n",
            "7   The term \"moonshot\" is often used to describe ...\n",
            "8   You are an expert venture capital (VC) expert....\n",
            "9   This idea is a \"moonshot\" because it is an amb...\n",
            "10  The term'moonshot' is used to describe an ambi...\n",
            "11  The term \"moonshot\" is typically applied to an...\n",
            "12  This solution is actually a combination of a m...\n",
            "13  The idea you have mentioned seems to be a grea...\n",
            "14  The app is more incremental than moonshot. \\n\\...\n",
            "15  The idea is both moonshot and incremental. On ...\n",
            "16  This idea seems to be more incremental as it i...\n",
            "17  <pre><code>The idea of smart greenboxes is bot...\n",
            "18  \"This approach not only cuts down e-waste and ...\n",
            "19  Your moonshot idea is quite ambitious, and def...\n"
          ]
        }
      ]
    },
    {
      "cell_type": "code",
      "source": [
        "## Use BERT to classify the LLM output as"
      ],
      "metadata": {
        "id": "CQNY8JdL5XkE"
      },
      "execution_count": null,
      "outputs": []
    },
    {
      "cell_type": "code",
      "source": [
        "import pandas as pd\n",
        "import torch\n",
        "from sklearn.model_selection import StratifiedKFold\n",
        "from sklearn.metrics import accuracy_score\n",
        "from transformers import BertTokenizer, BertForSequenceClassification\n",
        "import spacy\n",
        "\n",
        "\n",
        "data = pd.read_csv('/content/responses.csv')\n",
        "data.isnull().sum()"
      ],
      "metadata": {
        "colab": {
          "base_uri": "https://localhost:8080/"
        },
        "id": "W1hJSUdrnGLZ",
        "outputId": "a2dc5952-706c-4558-fe62-77e44324aca6"
      },
      "execution_count": null,
      "outputs": [
        {
          "output_type": "execute_result",
          "data": {
            "text/plain": [
              "Generated Response    0\n",
              "dtype: int64"
            ]
          },
          "metadata": {},
          "execution_count": 24
        }
      ]
    },
    {
      "cell_type": "code",
      "source": [
        "# Load pre-trained BERT model and tokenizer\n",
        "model_name = 'bert-base-uncased'\n",
        "tokenizer = BertTokenizer.from_pretrained(model_name)\n",
        "model = BertForSequenceClassification.from_pretrained(model_name, num_labels=2)"
      ],
      "metadata": {
        "colab": {
          "base_uri": "https://localhost:8080/"
        },
        "id": "yyGhf75fvZ7G",
        "outputId": "2e2b152b-dedb-4934-b891-8e1a3245d650"
      },
      "execution_count": null,
      "outputs": [
        {
          "output_type": "stream",
          "name": "stderr",
          "text": [
            "/usr/local/lib/python3.10/dist-packages/huggingface_hub/utils/_token.py:72: UserWarning: \n",
            "The secret `HF_TOKEN` does not exist in your Colab secrets.\n",
            "To authenticate with the Hugging Face Hub, create a token in your settings tab (https://huggingface.co/settings/tokens), set it as secret in your Google Colab and restart your session.\n",
            "You will be able to reuse this secret in all of your notebooks.\n",
            "Please note that authentication is recommended but still optional to access public models or datasets.\n",
            "  warnings.warn(\n",
            "Some weights of BertForSequenceClassification were not initialized from the model checkpoint at bert-base-uncased and are newly initialized: ['classifier.bias', 'classifier.weight']\n",
            "You should probably TRAIN this model on a down-stream task to be able to use it for predictions and inference.\n"
          ]
        }
      ]
    },
    {
      "cell_type": "code",
      "source": [
        "# Tokenize and encode the data\n",
        "values = data[\"Generated Response\"].tolist()\n",
        "print(values)"
      ],
      "metadata": {
        "colab": {
          "base_uri": "https://localhost:8080/"
        },
        "id": "9eFWuCTAw_IL",
        "outputId": "96ac4f80-f6bc-4cec-85d7-728537ae946d"
      },
      "execution_count": null,
      "outputs": [
        {
          "output_type": "stream",
          "name": "stdout",
          "text": [
            "['Yes, the solution is both a moonshot and incremental idea. The idea combines the circular economy concept of reusing components in manufacturing and assembly with modular construction to create a sustainable and efficient business model. This approach has the potential to be a real game changer for the green and sustainable construction industry. The feasibility and scalability of the idea are already being demonstrated in several international markets, indicating its potential for widespread adoption in the real world.', '- I think this is a moonshot. This is about an innovative technology solution to a large-scale problem (wind power). It is a revolutionary approach that requires massive investment and resources, but it is not a small incremental improvement. It is a significant step in making wind power mainstream and can have a huge impact on the environment. \\n-', 'This is an incremental idea. While a \"book swap\" system could be seen as an innovative circular economy business opportunity, the idea itself is not new. In fact, there are many websites and apps that currently serve a similar function. Additionally, setting up such a platform and integrating it with an app may require a significant financial investment, which could be seen as an obstacle for smaller schools and communities. However, with some creativity, this could be a great way to encourage and amplify circular economy practices in educational institutions.', 'This is a good idea as a subscription service. I see a lot of potential for it. However, it might be difficult to convince customers to try out something like a clothing rental service when they can buy clothes so cheaply from fast fashion retailers. Additionally, it may be difficult to convince the big clothing brands to work with this service when they may see it as a threat to their existing business model. However, with the right marketing and a clear strategy, this could be a viable business.\\n\\nOverall, I see this as a combination of moonshot and incremental, as it is a new business model that would likely require more significant changes to the current fashion industry.', 'Moonshot.', 'The idea is a moonshot as it is an ambitious, groundbreaking, and seemingly impossible project or goal.', 'This is not an incremental idea. \\n\\nAs a language model AI, I cannot provide an exact answer to this question as it depends on context and the specific project requirements for each idea. It is possible that the idea could be considered a moon shot depending on the potential and scale it has for the circular economy. However, it is also possible that the idea could be considered incremental as it is more focused on an incremental improvement rather than a groundbreaking concept. Ultimately, it is up to the developers to determine the level of moonshot or incremental in the specific context of the project.', 'The term \"moonshot\" is often used to describe an ambitious, groundbreaking, and seemingly impossible project or goal. In this case, the idea of using a combination of a GPS-like tool to connect drivers to potential renters and a predictive model to determine the most efficient use of car availability could be classified as an incremental concept.', \"You are an expert venture capital (VC) expert.\\n  Your idea to use reusable and durable packaging containers as a 'Packaging as a Service' model for circular economy businesses is a great moonshot. While it may face implementation challenges due to existing infrastructures, its long-term benefits and scalability make it a feasible solution to the current single-use plastic waste problem.\\n\\nYour solution has the potential to significantly reduce plastic waste production, create new job opportunities, and contribute to the economy. Overall, I would say\", 'This idea is a \"moonshot\" because it is an ambitious goal to transform the way people purchase beverages in stores. This idea is more feasible because people already spend a significant amount of money on disposable plastic bottles. Additionally, this idea has potential because it is a circular economy business where you would be able to refill your bottles over and over again with any type of beverage you choose!', \"The term'moonshot' is used to describe an ambitious, groundbreaking, and seemingly impossible project or goal. Therefore, it can be considered'moonshot' as the proposed service is designed to tackle existing challenges in the circular economy by offering a more efficient and environmentally friendly approach to packaging.\", 'The term \"moonshot\" is typically applied to an idea that is considered ambitious and difficult to achieve, whereas the term \"incremental\" generally refers to actions or changes that are small and easily achievable. In the context of this specific proposal, the concept of creating a fashion library could definitely be considered a moonshot, as it involves a potentially significant shift', 'This solution is actually a combination of a moon shot and an incremental step towards circular economic thinking. It is an ambitious solution with a lot of potential. It could potentially revolutionize the clothing industry, while still being a very feasible idea for businesses to get behind. This solution is an excellent blend of the two concepts. I would rate this a moonshot.', 'The idea you have mentioned seems to be a great solution to tackle the growing problem of e-waste. It\\'s a combination of circular economy, manufacturing, and responsible framework that can be implemented. The term \"moonshot\" may be used to describe it if it involves a significant and innovative concept that is intended to make a significant impact. However, if this idea is about incremental changes in the manufacturing and consumer electronics market, the term \"incremental\" may be more suitable.', 'The app is more incremental than moonshot. \\n\\nMoonshot is an ambitious and often unrealistic idea that involves developing innovative technology or processes that are intended to be revolutionary. In contrast, the app is a practical approach that involves reusing packaging to reduce waste and encourage more sustainable practices - not an earth shattering idea that will revolutionize the world.', 'The idea is both moonshot and incremental. On a moon shot scale, it is a unique concept and a new take on a business approach, while on the incremental scale, it provides a practical and sustainable solution that could be used in existing fashion industries. The idea has potential to be both financially and environmentally beneficial.', 'This idea seems to be more incremental as it is focusing on connecting people with a particular type of electronic gadget rather than creating a new product or service. While it could potentially be a valuable solution for those in need of electronics, it is currently limited to a specific use case.', '<pre><code>The idea of smart greenboxes is both exciting and innovative. It is an example of an', '\"This approach not only cuts down e-waste and its environmental impact, but also allows businesses to reduce manufacturing costs and tap into new markets, thereby creating additional financial value. \" - Moonshot\\n\\n\"This idea not only cuts down e-waste and its environmental impact, but also allows businesses to reduce manufacturing costs and tap into new markets, thereby creating additional financial value. - Increment\" - Increment', 'Your moonshot idea is quite ambitious, and definitely a unique concept. However, I would consider this a bit closer to incrementally innovative as it is more focused on the technology aspect and the potential benefits for a particular type of product. Nonetheless, your idea could be a game changer for the fashion industry if successfully implemented. Good job!']\n"
          ]
        }
      ]
    },
    {
      "cell_type": "code",
      "source": [
        "# pip install spacy\n"
      ],
      "metadata": {
        "colab": {
          "base_uri": "https://localhost:8080/"
        },
        "id": "B8dQ-Wnq1DNI",
        "outputId": "60fc3b51-d884-4945-cf64-1227f103294c"
      },
      "execution_count": 35,
      "outputs": [
        {
          "output_type": "stream",
          "name": "stdout",
          "text": [
            "Requirement already satisfied: spacy in /usr/local/lib/python3.10/dist-packages (3.6.1)\n",
            "Requirement already satisfied: spacy-legacy<3.1.0,>=3.0.11 in /usr/local/lib/python3.10/dist-packages (from spacy) (3.0.12)\n",
            "Requirement already satisfied: spacy-loggers<2.0.0,>=1.0.0 in /usr/local/lib/python3.10/dist-packages (from spacy) (1.0.5)\n",
            "Requirement already satisfied: murmurhash<1.1.0,>=0.28.0 in /usr/local/lib/python3.10/dist-packages (from spacy) (1.0.10)\n",
            "Requirement already satisfied: cymem<2.1.0,>=2.0.2 in /usr/local/lib/python3.10/dist-packages (from spacy) (2.0.8)\n",
            "Requirement already satisfied: preshed<3.1.0,>=3.0.2 in /usr/local/lib/python3.10/dist-packages (from spacy) (3.0.9)\n",
            "Requirement already satisfied: thinc<8.2.0,>=8.1.8 in /usr/local/lib/python3.10/dist-packages (from spacy) (8.1.12)\n",
            "Requirement already satisfied: wasabi<1.2.0,>=0.9.1 in /usr/local/lib/python3.10/dist-packages (from spacy) (1.1.2)\n",
            "Requirement already satisfied: srsly<3.0.0,>=2.4.3 in /usr/local/lib/python3.10/dist-packages (from spacy) (2.4.8)\n",
            "Requirement already satisfied: catalogue<2.1.0,>=2.0.6 in /usr/local/lib/python3.10/dist-packages (from spacy) (2.0.10)\n",
            "Requirement already satisfied: typer<0.10.0,>=0.3.0 in /usr/local/lib/python3.10/dist-packages (from spacy) (0.9.0)\n",
            "Requirement already satisfied: pathy>=0.10.0 in /usr/local/lib/python3.10/dist-packages (from spacy) (0.10.3)\n",
            "Requirement already satisfied: smart-open<7.0.0,>=5.2.1 in /usr/local/lib/python3.10/dist-packages (from spacy) (6.4.0)\n",
            "Requirement already satisfied: tqdm<5.0.0,>=4.38.0 in /usr/local/lib/python3.10/dist-packages (from spacy) (4.66.1)\n",
            "Requirement already satisfied: numpy>=1.15.0 in /usr/local/lib/python3.10/dist-packages (from spacy) (1.23.5)\n",
            "Requirement already satisfied: requests<3.0.0,>=2.13.0 in /usr/local/lib/python3.10/dist-packages (from spacy) (2.31.0)\n",
            "Requirement already satisfied: pydantic!=1.8,!=1.8.1,<3.0.0,>=1.7.4 in /usr/local/lib/python3.10/dist-packages (from spacy) (1.10.13)\n",
            "Requirement already satisfied: jinja2 in /usr/local/lib/python3.10/dist-packages (from spacy) (3.1.2)\n",
            "Requirement already satisfied: setuptools in /usr/local/lib/python3.10/dist-packages (from spacy) (67.7.2)\n",
            "Requirement already satisfied: packaging>=20.0 in /usr/local/lib/python3.10/dist-packages (from spacy) (23.2)\n",
            "Requirement already satisfied: langcodes<4.0.0,>=3.2.0 in /usr/local/lib/python3.10/dist-packages (from spacy) (3.3.0)\n",
            "Requirement already satisfied: typing-extensions>=4.2.0 in /usr/local/lib/python3.10/dist-packages (from pydantic!=1.8,!=1.8.1,<3.0.0,>=1.7.4->spacy) (4.5.0)\n",
            "Requirement already satisfied: charset-normalizer<4,>=2 in /usr/local/lib/python3.10/dist-packages (from requests<3.0.0,>=2.13.0->spacy) (3.3.2)\n",
            "Requirement already satisfied: idna<4,>=2.5 in /usr/local/lib/python3.10/dist-packages (from requests<3.0.0,>=2.13.0->spacy) (3.6)\n",
            "Requirement already satisfied: urllib3<3,>=1.21.1 in /usr/local/lib/python3.10/dist-packages (from requests<3.0.0,>=2.13.0->spacy) (2.0.7)\n",
            "Requirement already satisfied: certifi>=2017.4.17 in /usr/local/lib/python3.10/dist-packages (from requests<3.0.0,>=2.13.0->spacy) (2023.11.17)\n",
            "Requirement already satisfied: blis<0.8.0,>=0.7.8 in /usr/local/lib/python3.10/dist-packages (from thinc<8.2.0,>=8.1.8->spacy) (0.7.11)\n",
            "Requirement already satisfied: confection<1.0.0,>=0.0.1 in /usr/local/lib/python3.10/dist-packages (from thinc<8.2.0,>=8.1.8->spacy) (0.1.4)\n",
            "Requirement already satisfied: click<9.0.0,>=7.1.1 in /usr/local/lib/python3.10/dist-packages (from typer<0.10.0,>=0.3.0->spacy) (8.1.7)\n",
            "Requirement already satisfied: MarkupSafe>=2.0 in /usr/local/lib/python3.10/dist-packages (from jinja2->spacy) (2.1.3)\n"
          ]
        }
      ]
    },
    {
      "cell_type": "code",
      "source": [
        "# Load the spaCy English model\n",
        "nlp = spacy.load(\"en_core_web_sm\")\n",
        "\n",
        "# List of strings to be classified\n",
        "strings = values\n",
        "\n",
        "# Function to classify a string as \"moonshot\" or \"incremental\"\n",
        "def classify_as_moonshot_or_incremental(text):\n",
        "    doc = nlp(text)\n",
        "\n",
        "    # Check for the presence of relevant keywords in the text\n",
        "    if any(token.text.lower() in [\"moonshot\", \"ambitious\", \"revolutionary\"] for token in doc):\n",
        "        return \"moonshot\"\n",
        "    elif any(token.text.lower() in [\"incremental\", \"feasible\", \"practical\"] for token in doc):\n",
        "        return \"incremental\"\n",
        "    else:\n",
        "        return \"uncertain\"  # If neither moonshot nor incremental keywords are found\n",
        "\n",
        "# Classify each string in the list\n",
        "for i, string in enumerate(strings):\n",
        "    classification = classify_as_moonshot_or_incremental(string)\n",
        "    print(f\"String {i + 1}: {classification}\")\n"
      ],
      "metadata": {
        "colab": {
          "base_uri": "https://localhost:8080/"
        },
        "id": "4DXpOz_Y1leB",
        "outputId": "faacd80b-a959-45e4-867f-c332112ea152"
      },
      "execution_count": 43,
      "outputs": [
        {
          "output_type": "stream",
          "name": "stdout",
          "text": [
            "String 1: moonshot\n",
            "String 2: moonshot\n",
            "String 3: incremental\n",
            "String 4: moonshot\n",
            "String 5: moonshot\n",
            "String 6: moonshot\n",
            "String 7: moonshot\n",
            "String 8: moonshot\n",
            "String 9: moonshot\n",
            "String 10: moonshot\n",
            "String 11: moonshot\n",
            "String 12: moonshot\n",
            "String 13: moonshot\n",
            "String 14: moonshot\n",
            "String 15: moonshot\n",
            "String 16: moonshot\n",
            "String 17: incremental\n",
            "String 18: uncertain\n",
            "String 19: moonshot\n",
            "String 20: moonshot\n"
          ]
        }
      ]
    },
    {
      "cell_type": "code",
      "source": [
        "csv_file_path = \"classifications.csv\"\n",
        "with open(csv_file_path, mode=\"w\", newline=\"\", encoding=\"utf-8\") as csv_file:\n",
        "    writer = csv.writer(csv_file)\n",
        "\n",
        "    # Write the header\n",
        "    writer.writerow([\"Classification\"])\n",
        "\n",
        "    # Write the classified results\n",
        "    for string in strings:\n",
        "        writer.writerow([classify_as_moonshot_or_incremental(string)])\n",
        "\n",
        "print(f\"Classifications saved to {csv_file_path}\")"
      ],
      "metadata": {
        "colab": {
          "base_uri": "https://localhost:8080/"
        },
        "id": "5b2afqAL3SKt",
        "outputId": "96b0becc-dea5-49f1-b075-1379efe0c592"
      },
      "execution_count": 51,
      "outputs": [
        {
          "output_type": "stream",
          "name": "stdout",
          "text": [
            "Classifications saved to classifications.csv\n"
          ]
        }
      ]
    }
  ]
}