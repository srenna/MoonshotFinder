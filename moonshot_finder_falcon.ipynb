{
  "nbformat": 4,
  "nbformat_minor": 0,
  "metadata": {
    "colab": {
      "provenance": [],
      "gpuType": "T4",
      "machine_shape": "hm",
      "include_colab_link": true
    },
    "kernelspec": {
      "name": "python3",
      "display_name": "Python 3"
    },
    "language_info": {
      "name": "python"
    },
    "accelerator": "GPU",
    "widgets": {
      "application/vnd.jupyter.widget-state+json": {
        "6be865c94e9347a49c5b31983ea3716a": {
          "model_module": "@jupyter-widgets/controls",
          "model_name": "HBoxModel",
          "model_module_version": "1.5.0",
          "state": {
            "_dom_classes": [],
            "_model_module": "@jupyter-widgets/controls",
            "_model_module_version": "1.5.0",
            "_model_name": "HBoxModel",
            "_view_count": null,
            "_view_module": "@jupyter-widgets/controls",
            "_view_module_version": "1.5.0",
            "_view_name": "HBoxView",
            "box_style": "",
            "children": [
              "IPY_MODEL_a2c3d4da42dd4b5d9dda98ceb9a009af",
              "IPY_MODEL_6b42d2c9dbfa430fa834774668cadebe",
              "IPY_MODEL_a65a3a60593340c89311ec020f68cbc3"
            ],
            "layout": "IPY_MODEL_5e3ecf42e3c34ce1b23bb8af29701451"
          }
        },
        "a2c3d4da42dd4b5d9dda98ceb9a009af": {
          "model_module": "@jupyter-widgets/controls",
          "model_name": "HTMLModel",
          "model_module_version": "1.5.0",
          "state": {
            "_dom_classes": [],
            "_model_module": "@jupyter-widgets/controls",
            "_model_module_version": "1.5.0",
            "_model_name": "HTMLModel",
            "_view_count": null,
            "_view_module": "@jupyter-widgets/controls",
            "_view_module_version": "1.5.0",
            "_view_name": "HTMLView",
            "description": "",
            "description_tooltip": null,
            "layout": "IPY_MODEL_9ffffd3303df4b42a86b67ad15eb873e",
            "placeholder": "​",
            "style": "IPY_MODEL_367e214e2c5443519a5b67229f70ab3b",
            "value": "Loading checkpoint shards: 100%"
          }
        },
        "6b42d2c9dbfa430fa834774668cadebe": {
          "model_module": "@jupyter-widgets/controls",
          "model_name": "FloatProgressModel",
          "model_module_version": "1.5.0",
          "state": {
            "_dom_classes": [],
            "_model_module": "@jupyter-widgets/controls",
            "_model_module_version": "1.5.0",
            "_model_name": "FloatProgressModel",
            "_view_count": null,
            "_view_module": "@jupyter-widgets/controls",
            "_view_module_version": "1.5.0",
            "_view_name": "ProgressView",
            "bar_style": "success",
            "description": "",
            "description_tooltip": null,
            "layout": "IPY_MODEL_c06eb419700b4e2895c6ca36ce4a9f1b",
            "max": 2,
            "min": 0,
            "orientation": "horizontal",
            "style": "IPY_MODEL_5bb68478e3db476bb60793f07e3dcf12",
            "value": 2
          }
        },
        "a65a3a60593340c89311ec020f68cbc3": {
          "model_module": "@jupyter-widgets/controls",
          "model_name": "HTMLModel",
          "model_module_version": "1.5.0",
          "state": {
            "_dom_classes": [],
            "_model_module": "@jupyter-widgets/controls",
            "_model_module_version": "1.5.0",
            "_model_name": "HTMLModel",
            "_view_count": null,
            "_view_module": "@jupyter-widgets/controls",
            "_view_module_version": "1.5.0",
            "_view_name": "HTMLView",
            "description": "",
            "description_tooltip": null,
            "layout": "IPY_MODEL_7c3a0847bca3451daf10cff4cb5ce182",
            "placeholder": "​",
            "style": "IPY_MODEL_581172be3b5a4d879e9e280b252aafde",
            "value": " 2/2 [00:13&lt;00:00,  6.47s/it]"
          }
        },
        "5e3ecf42e3c34ce1b23bb8af29701451": {
          "model_module": "@jupyter-widgets/base",
          "model_name": "LayoutModel",
          "model_module_version": "1.2.0",
          "state": {
            "_model_module": "@jupyter-widgets/base",
            "_model_module_version": "1.2.0",
            "_model_name": "LayoutModel",
            "_view_count": null,
            "_view_module": "@jupyter-widgets/base",
            "_view_module_version": "1.2.0",
            "_view_name": "LayoutView",
            "align_content": null,
            "align_items": null,
            "align_self": null,
            "border": null,
            "bottom": null,
            "display": null,
            "flex": null,
            "flex_flow": null,
            "grid_area": null,
            "grid_auto_columns": null,
            "grid_auto_flow": null,
            "grid_auto_rows": null,
            "grid_column": null,
            "grid_gap": null,
            "grid_row": null,
            "grid_template_areas": null,
            "grid_template_columns": null,
            "grid_template_rows": null,
            "height": null,
            "justify_content": null,
            "justify_items": null,
            "left": null,
            "margin": null,
            "max_height": null,
            "max_width": null,
            "min_height": null,
            "min_width": null,
            "object_fit": null,
            "object_position": null,
            "order": null,
            "overflow": null,
            "overflow_x": null,
            "overflow_y": null,
            "padding": null,
            "right": null,
            "top": null,
            "visibility": null,
            "width": null
          }
        },
        "9ffffd3303df4b42a86b67ad15eb873e": {
          "model_module": "@jupyter-widgets/base",
          "model_name": "LayoutModel",
          "model_module_version": "1.2.0",
          "state": {
            "_model_module": "@jupyter-widgets/base",
            "_model_module_version": "1.2.0",
            "_model_name": "LayoutModel",
            "_view_count": null,
            "_view_module": "@jupyter-widgets/base",
            "_view_module_version": "1.2.0",
            "_view_name": "LayoutView",
            "align_content": null,
            "align_items": null,
            "align_self": null,
            "border": null,
            "bottom": null,
            "display": null,
            "flex": null,
            "flex_flow": null,
            "grid_area": null,
            "grid_auto_columns": null,
            "grid_auto_flow": null,
            "grid_auto_rows": null,
            "grid_column": null,
            "grid_gap": null,
            "grid_row": null,
            "grid_template_areas": null,
            "grid_template_columns": null,
            "grid_template_rows": null,
            "height": null,
            "justify_content": null,
            "justify_items": null,
            "left": null,
            "margin": null,
            "max_height": null,
            "max_width": null,
            "min_height": null,
            "min_width": null,
            "object_fit": null,
            "object_position": null,
            "order": null,
            "overflow": null,
            "overflow_x": null,
            "overflow_y": null,
            "padding": null,
            "right": null,
            "top": null,
            "visibility": null,
            "width": null
          }
        },
        "367e214e2c5443519a5b67229f70ab3b": {
          "model_module": "@jupyter-widgets/controls",
          "model_name": "DescriptionStyleModel",
          "model_module_version": "1.5.0",
          "state": {
            "_model_module": "@jupyter-widgets/controls",
            "_model_module_version": "1.5.0",
            "_model_name": "DescriptionStyleModel",
            "_view_count": null,
            "_view_module": "@jupyter-widgets/base",
            "_view_module_version": "1.2.0",
            "_view_name": "StyleView",
            "description_width": ""
          }
        },
        "c06eb419700b4e2895c6ca36ce4a9f1b": {
          "model_module": "@jupyter-widgets/base",
          "model_name": "LayoutModel",
          "model_module_version": "1.2.0",
          "state": {
            "_model_module": "@jupyter-widgets/base",
            "_model_module_version": "1.2.0",
            "_model_name": "LayoutModel",
            "_view_count": null,
            "_view_module": "@jupyter-widgets/base",
            "_view_module_version": "1.2.0",
            "_view_name": "LayoutView",
            "align_content": null,
            "align_items": null,
            "align_self": null,
            "border": null,
            "bottom": null,
            "display": null,
            "flex": null,
            "flex_flow": null,
            "grid_area": null,
            "grid_auto_columns": null,
            "grid_auto_flow": null,
            "grid_auto_rows": null,
            "grid_column": null,
            "grid_gap": null,
            "grid_row": null,
            "grid_template_areas": null,
            "grid_template_columns": null,
            "grid_template_rows": null,
            "height": null,
            "justify_content": null,
            "justify_items": null,
            "left": null,
            "margin": null,
            "max_height": null,
            "max_width": null,
            "min_height": null,
            "min_width": null,
            "object_fit": null,
            "object_position": null,
            "order": null,
            "overflow": null,
            "overflow_x": null,
            "overflow_y": null,
            "padding": null,
            "right": null,
            "top": null,
            "visibility": null,
            "width": null
          }
        },
        "5bb68478e3db476bb60793f07e3dcf12": {
          "model_module": "@jupyter-widgets/controls",
          "model_name": "ProgressStyleModel",
          "model_module_version": "1.5.0",
          "state": {
            "_model_module": "@jupyter-widgets/controls",
            "_model_module_version": "1.5.0",
            "_model_name": "ProgressStyleModel",
            "_view_count": null,
            "_view_module": "@jupyter-widgets/base",
            "_view_module_version": "1.2.0",
            "_view_name": "StyleView",
            "bar_color": null,
            "description_width": ""
          }
        },
        "7c3a0847bca3451daf10cff4cb5ce182": {
          "model_module": "@jupyter-widgets/base",
          "model_name": "LayoutModel",
          "model_module_version": "1.2.0",
          "state": {
            "_model_module": "@jupyter-widgets/base",
            "_model_module_version": "1.2.0",
            "_model_name": "LayoutModel",
            "_view_count": null,
            "_view_module": "@jupyter-widgets/base",
            "_view_module_version": "1.2.0",
            "_view_name": "LayoutView",
            "align_content": null,
            "align_items": null,
            "align_self": null,
            "border": null,
            "bottom": null,
            "display": null,
            "flex": null,
            "flex_flow": null,
            "grid_area": null,
            "grid_auto_columns": null,
            "grid_auto_flow": null,
            "grid_auto_rows": null,
            "grid_column": null,
            "grid_gap": null,
            "grid_row": null,
            "grid_template_areas": null,
            "grid_template_columns": null,
            "grid_template_rows": null,
            "height": null,
            "justify_content": null,
            "justify_items": null,
            "left": null,
            "margin": null,
            "max_height": null,
            "max_width": null,
            "min_height": null,
            "min_width": null,
            "object_fit": null,
            "object_position": null,
            "order": null,
            "overflow": null,
            "overflow_x": null,
            "overflow_y": null,
            "padding": null,
            "right": null,
            "top": null,
            "visibility": null,
            "width": null
          }
        },
        "581172be3b5a4d879e9e280b252aafde": {
          "model_module": "@jupyter-widgets/controls",
          "model_name": "DescriptionStyleModel",
          "model_module_version": "1.5.0",
          "state": {
            "_model_module": "@jupyter-widgets/controls",
            "_model_module_version": "1.5.0",
            "_model_name": "DescriptionStyleModel",
            "_view_count": null,
            "_view_module": "@jupyter-widgets/base",
            "_view_module_version": "1.2.0",
            "_view_name": "StyleView",
            "description_width": ""
          }
        }
      }
    }
  },
  "cells": [
    {
      "cell_type": "markdown",
      "metadata": {
        "id": "view-in-github",
        "colab_type": "text"
      },
      "source": [
        "<a href=\"https://colab.research.google.com/github/srenna/moonshot_finder/blob/main/moonshot_finder_falcon.ipynb\" target=\"_parent\"><img src=\"https://colab.research.google.com/assets/colab-badge.svg\" alt=\"Open In Colab\"/></a>"
      ]
    },
    {
      "cell_type": "markdown",
      "source": [
        "## Data Import and Cleaning"
      ],
      "metadata": {
        "id": "xOzGGcHYwdmM"
      }
    },
    {
      "cell_type": "code",
      "source": [
        "import pandas as pd"
      ],
      "metadata": {
        "id": "KhJPvjqE4Kgj"
      },
      "execution_count": 1,
      "outputs": []
    },
    {
      "cell_type": "code",
      "source": [
        "encodings_to_try = ['utf-8', 'latin-1', 'ISO-8859-1']\n",
        "\n",
        "for encoding in encodings_to_try:\n",
        "    try:\n",
        "        df = pd.read_csv('AI EarthHack Dataset.csv', encoding=encoding)\n",
        "        break\n",
        "    except UnicodeDecodeError:\n",
        "        continue"
      ],
      "metadata": {
        "id": "qQpAa9cG4KXB"
      },
      "execution_count": 2,
      "outputs": []
    },
    {
      "cell_type": "code",
      "source": [
        "# check all the data is there\n",
        "len(df)\n",
        "\n",
        "# look for null values\n",
        "df.isnull().sum()\n",
        "\n",
        "# drop null values\n",
        "df = df.dropna()"
      ],
      "metadata": {
        "id": "Tx3WHrAJ4cOf"
      },
      "execution_count": 3,
      "outputs": []
    },
    {
      "cell_type": "code",
      "source": [
        "df.head()"
      ],
      "metadata": {
        "colab": {
          "base_uri": "https://localhost:8080/",
          "height": 206
        },
        "id": "ExI1a1lq4hTf",
        "outputId": "a39171e0-4dc8-4ab3-96d5-c81d85b41ad4"
      },
      "execution_count": 4,
      "outputs": [
        {
          "output_type": "execute_result",
          "data": {
            "text/plain": [
              "   id                                            problem  \\\n",
              "0   1  The construction industry is indubitably one o...   \n",
              "1   2  I'm sure you, like me, are feeling the heat - ...   \n",
              "2   3  The massive shift in student learning towards ...   \n",
              "3   4  The fashion industry is one of the top contrib...   \n",
              "4   5  The majority of the materials used in producin...   \n",
              "\n",
              "                                            solution  \n",
              "0  Herein, we propose an innovative approach to m...  \n",
              "1  Imagine standing on a green hill, not a single...  \n",
              "2  Implement a \"\"Book Swap\"\" program within educa...  \n",
              "3  The proposed solution is a garment rental serv...  \n",
              "4  An innovative concept would be a modular elect...  "
            ],
            "text/html": [
              "\n",
              "  <div id=\"df-59a1d6ce-19a2-45e2-b45e-5f9da609f55c\" class=\"colab-df-container\">\n",
              "    <div>\n",
              "<style scoped>\n",
              "    .dataframe tbody tr th:only-of-type {\n",
              "        vertical-align: middle;\n",
              "    }\n",
              "\n",
              "    .dataframe tbody tr th {\n",
              "        vertical-align: top;\n",
              "    }\n",
              "\n",
              "    .dataframe thead th {\n",
              "        text-align: right;\n",
              "    }\n",
              "</style>\n",
              "<table border=\"1\" class=\"dataframe\">\n",
              "  <thead>\n",
              "    <tr style=\"text-align: right;\">\n",
              "      <th></th>\n",
              "      <th>id</th>\n",
              "      <th>problem</th>\n",
              "      <th>solution</th>\n",
              "    </tr>\n",
              "  </thead>\n",
              "  <tbody>\n",
              "    <tr>\n",
              "      <th>0</th>\n",
              "      <td>1</td>\n",
              "      <td>The construction industry is indubitably one o...</td>\n",
              "      <td>Herein, we propose an innovative approach to m...</td>\n",
              "    </tr>\n",
              "    <tr>\n",
              "      <th>1</th>\n",
              "      <td>2</td>\n",
              "      <td>I'm sure you, like me, are feeling the heat - ...</td>\n",
              "      <td>Imagine standing on a green hill, not a single...</td>\n",
              "    </tr>\n",
              "    <tr>\n",
              "      <th>2</th>\n",
              "      <td>3</td>\n",
              "      <td>The massive shift in student learning towards ...</td>\n",
              "      <td>Implement a \"\"Book Swap\"\" program within educa...</td>\n",
              "    </tr>\n",
              "    <tr>\n",
              "      <th>3</th>\n",
              "      <td>4</td>\n",
              "      <td>The fashion industry is one of the top contrib...</td>\n",
              "      <td>The proposed solution is a garment rental serv...</td>\n",
              "    </tr>\n",
              "    <tr>\n",
              "      <th>4</th>\n",
              "      <td>5</td>\n",
              "      <td>The majority of the materials used in producin...</td>\n",
              "      <td>An innovative concept would be a modular elect...</td>\n",
              "    </tr>\n",
              "  </tbody>\n",
              "</table>\n",
              "</div>\n",
              "    <div class=\"colab-df-buttons\">\n",
              "\n",
              "  <div class=\"colab-df-container\">\n",
              "    <button class=\"colab-df-convert\" onclick=\"convertToInteractive('df-59a1d6ce-19a2-45e2-b45e-5f9da609f55c')\"\n",
              "            title=\"Convert this dataframe to an interactive table.\"\n",
              "            style=\"display:none;\">\n",
              "\n",
              "  <svg xmlns=\"http://www.w3.org/2000/svg\" height=\"24px\" viewBox=\"0 -960 960 960\">\n",
              "    <path d=\"M120-120v-720h720v720H120Zm60-500h600v-160H180v160Zm220 220h160v-160H400v160Zm0 220h160v-160H400v160ZM180-400h160v-160H180v160Zm440 0h160v-160H620v160ZM180-180h160v-160H180v160Zm440 0h160v-160H620v160Z\"/>\n",
              "  </svg>\n",
              "    </button>\n",
              "\n",
              "  <style>\n",
              "    .colab-df-container {\n",
              "      display:flex;\n",
              "      gap: 12px;\n",
              "    }\n",
              "\n",
              "    .colab-df-convert {\n",
              "      background-color: #E8F0FE;\n",
              "      border: none;\n",
              "      border-radius: 50%;\n",
              "      cursor: pointer;\n",
              "      display: none;\n",
              "      fill: #1967D2;\n",
              "      height: 32px;\n",
              "      padding: 0 0 0 0;\n",
              "      width: 32px;\n",
              "    }\n",
              "\n",
              "    .colab-df-convert:hover {\n",
              "      background-color: #E2EBFA;\n",
              "      box-shadow: 0px 1px 2px rgba(60, 64, 67, 0.3), 0px 1px 3px 1px rgba(60, 64, 67, 0.15);\n",
              "      fill: #174EA6;\n",
              "    }\n",
              "\n",
              "    .colab-df-buttons div {\n",
              "      margin-bottom: 4px;\n",
              "    }\n",
              "\n",
              "    [theme=dark] .colab-df-convert {\n",
              "      background-color: #3B4455;\n",
              "      fill: #D2E3FC;\n",
              "    }\n",
              "\n",
              "    [theme=dark] .colab-df-convert:hover {\n",
              "      background-color: #434B5C;\n",
              "      box-shadow: 0px 1px 3px 1px rgba(0, 0, 0, 0.15);\n",
              "      filter: drop-shadow(0px 1px 2px rgba(0, 0, 0, 0.3));\n",
              "      fill: #FFFFFF;\n",
              "    }\n",
              "  </style>\n",
              "\n",
              "    <script>\n",
              "      const buttonEl =\n",
              "        document.querySelector('#df-59a1d6ce-19a2-45e2-b45e-5f9da609f55c button.colab-df-convert');\n",
              "      buttonEl.style.display =\n",
              "        google.colab.kernel.accessAllowed ? 'block' : 'none';\n",
              "\n",
              "      async function convertToInteractive(key) {\n",
              "        const element = document.querySelector('#df-59a1d6ce-19a2-45e2-b45e-5f9da609f55c');\n",
              "        const dataTable =\n",
              "          await google.colab.kernel.invokeFunction('convertToInteractive',\n",
              "                                                    [key], {});\n",
              "        if (!dataTable) return;\n",
              "\n",
              "        const docLinkHtml = 'Like what you see? Visit the ' +\n",
              "          '<a target=\"_blank\" href=https://colab.research.google.com/notebooks/data_table.ipynb>data table notebook</a>'\n",
              "          + ' to learn more about interactive tables.';\n",
              "        element.innerHTML = '';\n",
              "        dataTable['output_type'] = 'display_data';\n",
              "        await google.colab.output.renderOutput(dataTable, element);\n",
              "        const docLink = document.createElement('div');\n",
              "        docLink.innerHTML = docLinkHtml;\n",
              "        element.appendChild(docLink);\n",
              "      }\n",
              "    </script>\n",
              "  </div>\n",
              "\n",
              "\n",
              "<div id=\"df-73dc1920-bc24-442f-90cb-0dfedf88aaca\">\n",
              "  <button class=\"colab-df-quickchart\" onclick=\"quickchart('df-73dc1920-bc24-442f-90cb-0dfedf88aaca')\"\n",
              "            title=\"Suggest charts\"\n",
              "            style=\"display:none;\">\n",
              "\n",
              "<svg xmlns=\"http://www.w3.org/2000/svg\" height=\"24px\"viewBox=\"0 0 24 24\"\n",
              "     width=\"24px\">\n",
              "    <g>\n",
              "        <path d=\"M19 3H5c-1.1 0-2 .9-2 2v14c0 1.1.9 2 2 2h14c1.1 0 2-.9 2-2V5c0-1.1-.9-2-2-2zM9 17H7v-7h2v7zm4 0h-2V7h2v10zm4 0h-2v-4h2v4z\"/>\n",
              "    </g>\n",
              "</svg>\n",
              "  </button>\n",
              "\n",
              "<style>\n",
              "  .colab-df-quickchart {\n",
              "      --bg-color: #E8F0FE;\n",
              "      --fill-color: #1967D2;\n",
              "      --hover-bg-color: #E2EBFA;\n",
              "      --hover-fill-color: #174EA6;\n",
              "      --disabled-fill-color: #AAA;\n",
              "      --disabled-bg-color: #DDD;\n",
              "  }\n",
              "\n",
              "  [theme=dark] .colab-df-quickchart {\n",
              "      --bg-color: #3B4455;\n",
              "      --fill-color: #D2E3FC;\n",
              "      --hover-bg-color: #434B5C;\n",
              "      --hover-fill-color: #FFFFFF;\n",
              "      --disabled-bg-color: #3B4455;\n",
              "      --disabled-fill-color: #666;\n",
              "  }\n",
              "\n",
              "  .colab-df-quickchart {\n",
              "    background-color: var(--bg-color);\n",
              "    border: none;\n",
              "    border-radius: 50%;\n",
              "    cursor: pointer;\n",
              "    display: none;\n",
              "    fill: var(--fill-color);\n",
              "    height: 32px;\n",
              "    padding: 0;\n",
              "    width: 32px;\n",
              "  }\n",
              "\n",
              "  .colab-df-quickchart:hover {\n",
              "    background-color: var(--hover-bg-color);\n",
              "    box-shadow: 0 1px 2px rgba(60, 64, 67, 0.3), 0 1px 3px 1px rgba(60, 64, 67, 0.15);\n",
              "    fill: var(--button-hover-fill-color);\n",
              "  }\n",
              "\n",
              "  .colab-df-quickchart-complete:disabled,\n",
              "  .colab-df-quickchart-complete:disabled:hover {\n",
              "    background-color: var(--disabled-bg-color);\n",
              "    fill: var(--disabled-fill-color);\n",
              "    box-shadow: none;\n",
              "  }\n",
              "\n",
              "  .colab-df-spinner {\n",
              "    border: 2px solid var(--fill-color);\n",
              "    border-color: transparent;\n",
              "    border-bottom-color: var(--fill-color);\n",
              "    animation:\n",
              "      spin 1s steps(1) infinite;\n",
              "  }\n",
              "\n",
              "  @keyframes spin {\n",
              "    0% {\n",
              "      border-color: transparent;\n",
              "      border-bottom-color: var(--fill-color);\n",
              "      border-left-color: var(--fill-color);\n",
              "    }\n",
              "    20% {\n",
              "      border-color: transparent;\n",
              "      border-left-color: var(--fill-color);\n",
              "      border-top-color: var(--fill-color);\n",
              "    }\n",
              "    30% {\n",
              "      border-color: transparent;\n",
              "      border-left-color: var(--fill-color);\n",
              "      border-top-color: var(--fill-color);\n",
              "      border-right-color: var(--fill-color);\n",
              "    }\n",
              "    40% {\n",
              "      border-color: transparent;\n",
              "      border-right-color: var(--fill-color);\n",
              "      border-top-color: var(--fill-color);\n",
              "    }\n",
              "    60% {\n",
              "      border-color: transparent;\n",
              "      border-right-color: var(--fill-color);\n",
              "    }\n",
              "    80% {\n",
              "      border-color: transparent;\n",
              "      border-right-color: var(--fill-color);\n",
              "      border-bottom-color: var(--fill-color);\n",
              "    }\n",
              "    90% {\n",
              "      border-color: transparent;\n",
              "      border-bottom-color: var(--fill-color);\n",
              "    }\n",
              "  }\n",
              "</style>\n",
              "\n",
              "  <script>\n",
              "    async function quickchart(key) {\n",
              "      const quickchartButtonEl =\n",
              "        document.querySelector('#' + key + ' button');\n",
              "      quickchartButtonEl.disabled = true;  // To prevent multiple clicks.\n",
              "      quickchartButtonEl.classList.add('colab-df-spinner');\n",
              "      try {\n",
              "        const charts = await google.colab.kernel.invokeFunction(\n",
              "            'suggestCharts', [key], {});\n",
              "      } catch (error) {\n",
              "        console.error('Error during call to suggestCharts:', error);\n",
              "      }\n",
              "      quickchartButtonEl.classList.remove('colab-df-spinner');\n",
              "      quickchartButtonEl.classList.add('colab-df-quickchart-complete');\n",
              "    }\n",
              "    (() => {\n",
              "      let quickchartButtonEl =\n",
              "        document.querySelector('#df-73dc1920-bc24-442f-90cb-0dfedf88aaca button');\n",
              "      quickchartButtonEl.style.display =\n",
              "        google.colab.kernel.accessAllowed ? 'block' : 'none';\n",
              "    })();\n",
              "  </script>\n",
              "</div>\n",
              "\n",
              "    </div>\n",
              "  </div>\n"
            ]
          },
          "metadata": {},
          "execution_count": 4
        }
      ]
    },
    {
      "cell_type": "markdown",
      "source": [
        "## Falcon 7B Model - by TII\n",
        "---\n",
        "1. Model Name: Falcon-7b-instruct\n",
        "2. Model Parameters: 7 Billion\n",
        "3. Training: Instruction-tuned Model\n",
        "4. Link: https://huggingface.co/tiiuae/falcon-7b-instruct\n",
        "---"
      ],
      "metadata": {
        "id": "1sGJRcQMAhVv"
      }
    },
    {
      "cell_type": "code",
      "source": [
        "# install dependencies\n",
        "!pip install transformers\n",
        "!pip install einops\n",
        "!pip install accelerate"
      ],
      "metadata": {
        "id": "lL-uD6XfAtZ9",
        "colab": {
          "base_uri": "https://localhost:8080/"
        },
        "outputId": "7db003c6-9652-4085-f8d0-ce0a0d9a5ef3"
      },
      "execution_count": 5,
      "outputs": [
        {
          "output_type": "stream",
          "name": "stdout",
          "text": [
            "Requirement already satisfied: transformers in /usr/local/lib/python3.10/dist-packages (4.35.2)\n",
            "Requirement already satisfied: filelock in /usr/local/lib/python3.10/dist-packages (from transformers) (3.13.1)\n",
            "Requirement already satisfied: huggingface-hub<1.0,>=0.16.4 in /usr/local/lib/python3.10/dist-packages (from transformers) (0.20.1)\n",
            "Requirement already satisfied: numpy>=1.17 in /usr/local/lib/python3.10/dist-packages (from transformers) (1.23.5)\n",
            "Requirement already satisfied: packaging>=20.0 in /usr/local/lib/python3.10/dist-packages (from transformers) (23.2)\n",
            "Requirement already satisfied: pyyaml>=5.1 in /usr/local/lib/python3.10/dist-packages (from transformers) (6.0.1)\n",
            "Requirement already satisfied: regex!=2019.12.17 in /usr/local/lib/python3.10/dist-packages (from transformers) (2023.6.3)\n",
            "Requirement already satisfied: requests in /usr/local/lib/python3.10/dist-packages (from transformers) (2.31.0)\n",
            "Requirement already satisfied: tokenizers<0.19,>=0.14 in /usr/local/lib/python3.10/dist-packages (from transformers) (0.15.0)\n",
            "Requirement already satisfied: safetensors>=0.3.1 in /usr/local/lib/python3.10/dist-packages (from transformers) (0.4.1)\n",
            "Requirement already satisfied: tqdm>=4.27 in /usr/local/lib/python3.10/dist-packages (from transformers) (4.66.1)\n",
            "Requirement already satisfied: fsspec>=2023.5.0 in /usr/local/lib/python3.10/dist-packages (from huggingface-hub<1.0,>=0.16.4->transformers) (2023.6.0)\n",
            "Requirement already satisfied: typing-extensions>=3.7.4.3 in /usr/local/lib/python3.10/dist-packages (from huggingface-hub<1.0,>=0.16.4->transformers) (4.5.0)\n",
            "Requirement already satisfied: charset-normalizer<4,>=2 in /usr/local/lib/python3.10/dist-packages (from requests->transformers) (3.3.2)\n",
            "Requirement already satisfied: idna<4,>=2.5 in /usr/local/lib/python3.10/dist-packages (from requests->transformers) (3.6)\n",
            "Requirement already satisfied: urllib3<3,>=1.21.1 in /usr/local/lib/python3.10/dist-packages (from requests->transformers) (2.0.7)\n",
            "Requirement already satisfied: certifi>=2017.4.17 in /usr/local/lib/python3.10/dist-packages (from requests->transformers) (2023.11.17)\n",
            "Requirement already satisfied: einops in /usr/local/lib/python3.10/dist-packages (0.7.0)\n",
            "Requirement already satisfied: accelerate in /usr/local/lib/python3.10/dist-packages (0.25.0)\n",
            "Requirement already satisfied: numpy>=1.17 in /usr/local/lib/python3.10/dist-packages (from accelerate) (1.23.5)\n",
            "Requirement already satisfied: packaging>=20.0 in /usr/local/lib/python3.10/dist-packages (from accelerate) (23.2)\n",
            "Requirement already satisfied: psutil in /usr/local/lib/python3.10/dist-packages (from accelerate) (5.9.5)\n",
            "Requirement already satisfied: pyyaml in /usr/local/lib/python3.10/dist-packages (from accelerate) (6.0.1)\n",
            "Requirement already satisfied: torch>=1.10.0 in /usr/local/lib/python3.10/dist-packages (from accelerate) (2.1.0+cu121)\n",
            "Requirement already satisfied: huggingface-hub in /usr/local/lib/python3.10/dist-packages (from accelerate) (0.20.1)\n",
            "Requirement already satisfied: safetensors>=0.3.1 in /usr/local/lib/python3.10/dist-packages (from accelerate) (0.4.1)\n",
            "Requirement already satisfied: filelock in /usr/local/lib/python3.10/dist-packages (from torch>=1.10.0->accelerate) (3.13.1)\n",
            "Requirement already satisfied: typing-extensions in /usr/local/lib/python3.10/dist-packages (from torch>=1.10.0->accelerate) (4.5.0)\n",
            "Requirement already satisfied: sympy in /usr/local/lib/python3.10/dist-packages (from torch>=1.10.0->accelerate) (1.12)\n",
            "Requirement already satisfied: networkx in /usr/local/lib/python3.10/dist-packages (from torch>=1.10.0->accelerate) (3.2.1)\n",
            "Requirement already satisfied: jinja2 in /usr/local/lib/python3.10/dist-packages (from torch>=1.10.0->accelerate) (3.1.2)\n",
            "Requirement already satisfied: fsspec in /usr/local/lib/python3.10/dist-packages (from torch>=1.10.0->accelerate) (2023.6.0)\n",
            "Requirement already satisfied: triton==2.1.0 in /usr/local/lib/python3.10/dist-packages (from torch>=1.10.0->accelerate) (2.1.0)\n",
            "Requirement already satisfied: requests in /usr/local/lib/python3.10/dist-packages (from huggingface-hub->accelerate) (2.31.0)\n",
            "Requirement already satisfied: tqdm>=4.42.1 in /usr/local/lib/python3.10/dist-packages (from huggingface-hub->accelerate) (4.66.1)\n",
            "Requirement already satisfied: MarkupSafe>=2.0 in /usr/local/lib/python3.10/dist-packages (from jinja2->torch>=1.10.0->accelerate) (2.1.3)\n",
            "Requirement already satisfied: charset-normalizer<4,>=2 in /usr/local/lib/python3.10/dist-packages (from requests->huggingface-hub->accelerate) (3.3.2)\n",
            "Requirement already satisfied: idna<4,>=2.5 in /usr/local/lib/python3.10/dist-packages (from requests->huggingface-hub->accelerate) (3.6)\n",
            "Requirement already satisfied: urllib3<3,>=1.21.1 in /usr/local/lib/python3.10/dist-packages (from requests->huggingface-hub->accelerate) (2.0.7)\n",
            "Requirement already satisfied: certifi>=2017.4.17 in /usr/local/lib/python3.10/dist-packages (from requests->huggingface-hub->accelerate) (2023.11.17)\n",
            "Requirement already satisfied: mpmath>=0.19 in /usr/local/lib/python3.10/dist-packages (from sympy->torch>=1.10.0->accelerate) (1.3.0)\n"
          ]
        }
      ]
    },
    {
      "cell_type": "code",
      "source": [
        "from transformers import AutoTokenizer, AutoModelForCausalLM\n",
        "import transformers\n",
        "import torch\n",
        "\n",
        "# load model\n",
        "model = \"tiiuae/falcon-7b-instruct\"\n",
        "tokenizer = AutoTokenizer.from_pretrained(model)\n",
        "\n",
        "falcon_pipeline = transformers.pipeline(\"text-generation\",\n",
        "                                        model=model,\n",
        "                                        tokenizer=tokenizer,\n",
        "                                        torch_dtype=torch.bfloat16,\n",
        "                                        trust_remote_code=True,\n",
        "                                        device_map=\"auto\"\n",
        "                                        )"
      ],
      "metadata": {
        "id": "YLeSpPwfAmtr",
        "colab": {
          "base_uri": "https://localhost:8080/",
          "height": 329,
          "referenced_widgets": [
            "6be865c94e9347a49c5b31983ea3716a",
            "a2c3d4da42dd4b5d9dda98ceb9a009af",
            "6b42d2c9dbfa430fa834774668cadebe",
            "a65a3a60593340c89311ec020f68cbc3",
            "5e3ecf42e3c34ce1b23bb8af29701451",
            "9ffffd3303df4b42a86b67ad15eb873e",
            "367e214e2c5443519a5b67229f70ab3b",
            "c06eb419700b4e2895c6ca36ce4a9f1b",
            "5bb68478e3db476bb60793f07e3dcf12",
            "7c3a0847bca3451daf10cff4cb5ce182",
            "581172be3b5a4d879e9e280b252aafde"
          ]
        },
        "outputId": "7a145141-7d9b-4e30-dc0d-64dd73cc95a5"
      },
      "execution_count": 6,
      "outputs": [
        {
          "output_type": "stream",
          "name": "stderr",
          "text": [
            "/usr/local/lib/python3.10/dist-packages/huggingface_hub/utils/_token.py:72: UserWarning: \n",
            "The secret `HF_TOKEN` does not exist in your Colab secrets.\n",
            "To authenticate with the Hugging Face Hub, create a token in your settings tab (https://huggingface.co/settings/tokens), set it as secret in your Google Colab and restart your session.\n",
            "You will be able to reuse this secret in all of your notebooks.\n",
            "Please note that authentication is recommended but still optional to access public models or datasets.\n",
            "  warnings.warn(\n",
            "/usr/local/lib/python3.10/dist-packages/huggingface_hub/utils/_token.py:72: UserWarning: \n",
            "The secret `HF_TOKEN` does not exist in your Colab secrets.\n",
            "To authenticate with the Hugging Face Hub, create a token in your settings tab (https://huggingface.co/settings/tokens), set it as secret in your Google Colab and restart your session.\n",
            "You will be able to reuse this secret in all of your notebooks.\n",
            "Please note that authentication is recommended but still optional to access public models or datasets.\n",
            "  warnings.warn(\n",
            "WARNING:transformers_modules.tiiuae.falcon-7b-instruct.cf4b3c42ce2fdfe24f753f0f0d179202fea59c99.configuration_falcon:\n",
            "WARNING: You are currently loading Falcon using legacy code contained in the model repository. Falcon has now been fully ported into the Hugging Face transformers library. For the most up-to-date and high-performance version of the Falcon model code, please update to the latest version of transformers and then load the model without the trust_remote_code=True argument.\n",
            "\n"
          ]
        },
        {
          "output_type": "display_data",
          "data": {
            "text/plain": [
              "Loading checkpoint shards:   0%|          | 0/2 [00:00<?, ?it/s]"
            ],
            "application/vnd.jupyter.widget-view+json": {
              "version_major": 2,
              "version_minor": 0,
              "model_id": "6be865c94e9347a49c5b31983ea3716a"
            }
          },
          "metadata": {}
        }
      ]
    },
    {
      "cell_type": "code",
      "source": [
        "# define completion function\n",
        "def get_completion_falcon(input):\n",
        "  system = f\"\"\"\n",
        "  You are an expert venture capital (VC) expert.\n",
        "  You are good at looking at a stack of potential startup pitches to evaluate innovative circular economy business opportunities that were crowdsourced from an exciting innovation contest.\n",
        "  The term \"moonshot\" is often used to describe an ambitious, groundbreaking, and seemingly impossible project or goal.\n",
        "  The term \"incremental\" will be use to describe less ambitious, more feasible ideas.\n",
        "  Identify each idea as 'moonshot' or 'incremental'.\n",
        "  \"\"\"\n",
        "  prompt = f\"#### System: {system}\\n#### User: \\n{input}\\n\\n#### Response from falcon-7b-instruct:\"\n",
        "\n",
        "  falcon_response = falcon_pipeline(prompt,\n",
        "                                    max_length=1000,\n",
        "                                    do_sample=True,\n",
        "                                    top_k=10,\n",
        "                                    num_return_sequences=1,\n",
        "                                    eos_token_id=tokenizer.eos_token_id,\n",
        "                                    pad_token_id=tokenizer.eos_token_id\n",
        "                                    )\n",
        "\n",
        "\n",
        "  return falcon_response"
      ],
      "metadata": {
        "id": "0HkOj80TqaU4"
      },
      "execution_count": 7,
      "outputs": []
    },
    {
      "cell_type": "markdown",
      "source": [
        "## Prompt Engineering\n"
      ],
      "metadata": {
        "id": "H8O5kPTB5BZ2"
      }
    },
    {
      "cell_type": "code",
      "source": [
        "# let's prompt\n",
        "# prompt = \"Explain to me the difference between nuclear fission and fusion.\"\n",
        "# prompt = \"Why is the Sky blue?\"\n",
        "prompt = '''Herein, we propose an innovative approach to mitigate this problem: Modular Construction.\n",
        "This method embraces recycling and reuse, taking a significant stride towards a circular economy.\n",
        "  Modular construction involves utilizing engineered components in a manufacturing facility that are\n",
        "  later assembled on-site. These components are designed for easy disassembling, enabling them to be reused\n",
        "  in diverse projects, thus significantly reducing waste and conserving resources.\n",
        "  Not only does this method decrease construction waste by up to 90%, but it also decreases\n",
        "  construction time by 30-50%, optimizing both environmental and financial efficiency.\n",
        "  This reduction in time corresponds to substantial financial savings for businesses.\n",
        "  Moreover, the modular approach allows greater flexibility, adapting to changing needs over time.\n",
        "  We believe, by adopting modular construction, the industry can transit from a 'take, make and dispose'\n",
        "  model to a more sustainable 'reduce, reuse, and recycle' model, driving the industry towards a more circular\n",
        "  and sustainable future. The feasibility of this concept is already being proven in markets around the globe,\n",
        "  indicating its potential for scalability and real-world application. Is this a moonshot idea or incremental?'''\n",
        "response = get_completion_falcon(prompt)\n",
        "print(response[0]['generated_text'])"
      ],
      "metadata": {
        "colab": {
          "base_uri": "https://localhost:8080/"
        },
        "id": "hDor0GHR85E0",
        "outputId": "19069b39-6c7b-46d3-c30d-346c09256d32"
      },
      "execution_count": 8,
      "outputs": [
        {
          "output_type": "stream",
          "name": "stdout",
          "text": [
            "#### System: \n",
            "  You are an expert venture capital (VC) expert.\n",
            "  You are good at looking at a stack of potential startup pitches to evaluate innovative circular economy business opportunities that were crowdsourced from an exciting innovation contest.\n",
            "  The term \"moonshot\" is often used to describe an ambitious, groundbreaking, and seemingly impossible project or goal.\n",
            "  The term \"incremental\" will be use to describe less ambitious, more feasible ideas.\n",
            "  Identify each idea as 'moonshot' or 'incremental'.\n",
            "  \n",
            "#### User: \n",
            "Herein, we propose an innovative approach to mitigate this problem: Modular Construction.\n",
            "This method embraces recycling and reuse, taking a significant stride towards a circular economy.\n",
            "  Modular construction involves utilizing engineered components in a manufacturing facility that are\n",
            "  later assembled on-site. These components are designed for easy disassembling, enabling them to be reused\n",
            "  in diverse projects, thus significantly reducing waste and conserving resources.\n",
            "  Not only does this method decrease construction waste by up to 90%, but it also decreases\n",
            "  construction time by 30-50%, optimizing both environmental and financial efficiency.\n",
            "  This reduction in time corresponds to substantial financial savings for businesses.\n",
            "  Moreover, the modular approach allows greater flexibility, adapting to changing needs over time.\n",
            "  We believe, by adopting modular construction, the industry can transit from a 'take, make and dispose'\n",
            "  model to a more sustainable 'reduce, reuse, and recycle' model, driving the industry towards a more circular\n",
            "  and sustainable future. The feasibility of this concept is already being proven in markets around the globe,\n",
            "  indicating its potential for scalability and real-world application. Is this a moonshot idea or incremental?\n",
            "\n",
            "#### Response from falcon-7b-instruct: \n",
            "  This is an incremental idea in that it is focused on a particular aspect that can be easily replicated and scaled. The idea itself does not represent a moonshot but a feasible solution. However, it is an innovative approach that can help create a circular economy. \n"
          ]
        }
      ]
    },
    {
      "cell_type": "code",
      "source": [
        "prompt = '''Imagine standing on a green hill, not a single towering, noisy windmill in sight, and yet,\n",
        "you're surrounded by wind power generation! Using existing, yet under-utilized technology,\n",
        "I propose a revolutionary approach to harness wind energy on a commercial scale, without those\n",
        "\"\"monstrously large and environmentally damaging windmills\"\".\n",
        "With my idea, we could start construction tomorrow and give our electrical grid the jolt it needs,\n",
        "creating a future where clean, quiet and efficient energy isn't a dream, but a reality we live in.\n",
        "This is not about every home being a power station, but about businesses driving a green revolution\n",
        "from the ground up! Is this a moonshot idea or incremental?'''\n",
        "response = get_completion_falcon(prompt)\n",
        "print(response[0]['generated_text'])"
      ],
      "metadata": {
        "colab": {
          "base_uri": "https://localhost:8080/"
        },
        "id": "WRfgyR1V9WbA",
        "outputId": "0e49e2c5-76ec-452e-9d94-3d1352166ac9"
      },
      "execution_count": 9,
      "outputs": [
        {
          "output_type": "stream",
          "name": "stdout",
          "text": [
            "#### System: \n",
            "  You are an expert venture capital (VC) expert.\n",
            "  You are good at looking at a stack of potential startup pitches to evaluate innovative circular economy business opportunities that were crowdsourced from an exciting innovation contest.\n",
            "  The term \"moonshot\" is often used to describe an ambitious, groundbreaking, and seemingly impossible project or goal.\n",
            "  The term \"incremental\" will be use to describe less ambitious, more feasible ideas.\n",
            "  Identify each idea as 'moonshot' or 'incremental'.\n",
            "  \n",
            "#### User: \n",
            "Imagine standing on a green hill, not a single towering, noisy windmill in sight, and yet,\n",
            "you're surrounded by wind power generation! Using existing, yet under-utilized technology,\n",
            "I propose a revolutionary approach to harness wind energy on a commercial scale, without those\n",
            "\"\"monstrously large and environmentally damaging windmills\"\".\n",
            "With my idea, we could start construction tomorrow and give our electrical grid the jolt it needs,\n",
            "creating a future where clean, quiet and efficient energy isn't a dream, but a reality we live in.\n",
            "This is not about every home being a power station, but about businesses driving a green revolution\n",
            "from the ground up! Is this a moonshot idea or incremental?\n",
            "\n",
            "#### Response from falcon-7b-instruct:\n",
            "This can be considered as an incremental idea as it is focused on utilizing available technology and resources to create an innovative circular economy business opportunity. While it does involve some groundbreaking, potentially world-changing technology, it is a more feasible and achievable solution than building large, towering windmills. \n"
          ]
        }
      ]
    },
    {
      "cell_type": "code",
      "source": [
        "prompt = '''Implement a \"\"Book Swap\"\" program within educational institutions and local communities.\n",
        "This platform allows students to trade books they no longer need with others who require them,\n",
        "reducing the need for new book production and hence, lowering the rate of resource depletion.\n",
        "Furthermore, the platform could have a digital component to track book exchanges, giving users credits\n",
        "for each trade, which they can accrue and redeem. This system encourages and amplifies the benefits of\n",
        "reusing and sharing resources, thus contributing to the circular economy.   By integrating gamification,\n",
        "getting students and parents involved and providing an easy-to-use platform, the program could influence\n",
        "a cultural shift towards greater resource value appreciation and waste reduction.\n",
        "In terms of the financial aspect, less reliance on purchasing new books could save money for students,\n",
        "parents and schools. Is this idea moonshot or incremental?'''\n",
        "response = get_completion_falcon(prompt)\n",
        "print(response[0]['generated_text'])"
      ],
      "metadata": {
        "colab": {
          "base_uri": "https://localhost:8080/"
        },
        "id": "T2eYm-NH9tvl",
        "outputId": "0374d919-fd5e-4265-a017-bf216147c268"
      },
      "execution_count": 10,
      "outputs": [
        {
          "output_type": "stream",
          "name": "stdout",
          "text": [
            "#### System: \n",
            "  You are an expert venture capital (VC) expert.\n",
            "  You are good at looking at a stack of potential startup pitches to evaluate innovative circular economy business opportunities that were crowdsourced from an exciting innovation contest.\n",
            "  The term \"moonshot\" is often used to describe an ambitious, groundbreaking, and seemingly impossible project or goal.\n",
            "  The term \"incremental\" will be use to describe less ambitious, more feasible ideas.\n",
            "  Identify each idea as 'moonshot' or 'incremental'.\n",
            "  \n",
            "#### User: \n",
            "Implement a \"\"Book Swap\"\" program within educational institutions and local communities.\n",
            "This platform allows students to trade books they no longer need with others who require them,\n",
            "reducing the need for new book production and hence, lowering the rate of resource depletion.\n",
            "Furthermore, the platform could have a digital component to track book exchanges, giving users credits\n",
            "for each trade, which they can accrue and redeem. This system encourages and amplifies the benefits of\n",
            "reusing and sharing resources, thus contributing to the circular economy.   By integrating gamification,\n",
            "getting students and parents involved and providing an easy-to-use platform, the program could influence\n",
            "a cultural shift towards greater resource value appreciation and waste reduction.\n",
            "In terms of the financial aspect, less reliance on purchasing new books could save money for students,\n",
            "parents and schools. Is this idea moonshot or incremental?\n",
            "\n",
            "#### Response from falcon-7b-instruct:\n",
            "As an AI language model, I cannot provide an opinion on whether the concept of the moonshot or incremental. I suggest checking out the definition or explanation of each term to better understand the difference.\n"
          ]
        }
      ]
    },
    {
      "cell_type": "code",
      "source": [
        "prompt = '''This is a solution to a problem.\"Companies can offer products as a service,\n",
        "where customers pay for access or usage rather than ownership.\n",
        "This can be done through subscription models or pay-per-use systems.\"\n",
        "Is this idea 'moonshot' or 'incremental'?'''\n",
        "response = get_completion_falcon(prompt)\n",
        "print(response[0]['generated_text'])"
      ],
      "metadata": {
        "colab": {
          "base_uri": "https://localhost:8080/"
        },
        "id": "W_14Vf8g9_Zh",
        "outputId": "3ae2882d-d3ae-4d28-a740-bf39aad30281"
      },
      "execution_count": 11,
      "outputs": [
        {
          "output_type": "stream",
          "name": "stdout",
          "text": [
            "#### System: \n",
            "  You are an expert venture capital (VC) expert.\n",
            "  You are good at looking at a stack of potential startup pitches to evaluate innovative circular economy business opportunities that were crowdsourced from an exciting innovation contest.\n",
            "  The term \"moonshot\" is often used to describe an ambitious, groundbreaking, and seemingly impossible project or goal.\n",
            "  The term \"incremental\" will be use to describe less ambitious, more feasible ideas.\n",
            "  Identify each idea as 'moonshot' or 'incremental'.\n",
            "  \n",
            "#### User: \n",
            "This is a solution to a problem.\"Companies can offer products as a service,\n",
            "where customers pay for access or usage rather than ownership.\n",
            "This can be done through subscription models or pay-per-use systems.\"\n",
            "Is this idea 'moonshot' or 'incremental'?\n",
            "\n",
            "#### Response from falcon-7b-instruct:\n",
            "The term'moonshot' can be used to describe both incremental and grand, ambitious projects. The idea of offering products as a service, rather than ownership, could be considered a moonshot since it involves a completely new model of delivery to customers. The pay-per-use model could also be seen as an incremental idea since it focuses on access rather than ownership. Therefore, this idea could be categorized as both \"moonshot\" and \"incremental\".\n"
          ]
        }
      ]
    },
    {
      "cell_type": "code",
      "source": [
        "prompt = \"This is the problem.\" + df['problem'][0] + \"This is the solution.\" + df['solution'][0] + \"Is this idea moonshot or incremental?\"\n",
        "response = get_completion_falcon(prompt)\n",
        "print(response[0]['generated_text'])"
      ],
      "metadata": {
        "colab": {
          "base_uri": "https://localhost:8080/"
        },
        "id": "Q6ldup5kAqu4",
        "outputId": "6049f745-3879-458b-c9ad-606d706476bd"
      },
      "execution_count": 12,
      "outputs": [
        {
          "output_type": "stream",
          "name": "stdout",
          "text": [
            "#### System: \n",
            "  You are an expert venture capital (VC) expert.\n",
            "  You are good at looking at a stack of potential startup pitches to evaluate innovative circular economy business opportunities that were crowdsourced from an exciting innovation contest.\n",
            "  The term \"moonshot\" is often used to describe an ambitious, groundbreaking, and seemingly impossible project or goal.\n",
            "  The term \"incremental\" will be use to describe less ambitious, more feasible ideas.\n",
            "  Identify each idea as 'moonshot' or 'incremental'.\n",
            "  \n",
            "#### User: \n",
            "This is the problem.The construction industry is indubitably one of the significant contributors to global waste, contributing approximately 1.3 billion tons of waste annually, exerting significant pressure on our landfills and natural resources. Traditional construction methods entail single-use designs that require frequent demolitions, leading to resource depletion and wastage.   This is the solution.Herein, we propose an innovative approach to mitigate this problem: Modular Construction. This method embraces recycling and reuse, taking a significant stride towards a circular economy.   Modular construction involves utilizing engineered components in a manufacturing facility that are later assembled on-site. These components are designed for easy disassembling, enabling them to be reused in diverse projects, thus significantly reducing waste and conserving resources.  Not only does this method decrease construction waste by up to 90%, but it also decreases construction time by 30-50%, optimizing both environmental and financial efficiency. This reduction in time corresponds to substantial financial savings for businesses. Moreover, the modular approach allows greater flexibility, adapting to changing needs over time.  We believe, by adopting modular construction, the industry can transit from a 'take, make and dispose' model to a more sustainable 'reduce, reuse, and recycle' model, driving the industry towards a more circular and sustainable future. The feasibility of this concept is already being proven in markets around the globe, indicating its potential for scalability and real-world application.Is this idea moonshot or incremental?\n",
            "\n",
            "#### Response from falcon-7b-instruct: \n",
            "  4/5\n",
            "#####\n"
          ]
        }
      ]
    },
    {
      "cell_type": "code",
      "source": [
        "prompt = '''This is a solution to a problem.\"Companies can offer products as a service,\n",
        "where customers pay for access or usage rather than ownership.\n",
        "This can be done through subscription models or pay-per-use systems.\"\n",
        "Is this idea 'moonshot' or 'incremental'? Answer with exactly one word either \"Moonshot\" or \"Incremental\".'''\n",
        "response = get_completion_falcon(prompt)\n",
        "print(response[0]['generated_text'])"
      ],
      "metadata": {
        "colab": {
          "base_uri": "https://localhost:8080/"
        },
        "id": "X9ON_axFdYkG",
        "outputId": "0838b948-dffa-41bf-afb7-c255eb1e24ac"
      },
      "execution_count": 13,
      "outputs": [
        {
          "output_type": "stream",
          "name": "stdout",
          "text": [
            "#### System: \n",
            "  You are an expert venture capital (VC) expert.\n",
            "  You are good at looking at a stack of potential startup pitches to evaluate innovative circular economy business opportunities that were crowdsourced from an exciting innovation contest.\n",
            "  The term \"moonshot\" is often used to describe an ambitious, groundbreaking, and seemingly impossible project or goal.\n",
            "  The term \"incremental\" will be use to describe less ambitious, more feasible ideas.\n",
            "  Identify each idea as 'moonshot' or 'incremental'.\n",
            "  \n",
            "#### User: \n",
            "This is a solution to a problem.\"Companies can offer products as a service,\n",
            "where customers pay for access or usage rather than ownership.\n",
            "This can be done through subscription models or pay-per-use systems.\"\n",
            "Is this idea 'moonshot' or 'incremental'? Answer with exactly one word either \"Moonshot\" or \"Incremental\".\n",
            "\n",
            "#### Response from falcon-7b-instruct:\n",
            "Moonshot.\n"
          ]
        }
      ]
    },
    {
      "cell_type": "code",
      "source": [
        "prompt = \"This is the problem.\" + df['problem'][0] + \"This is the solution.\" + df['solution'][0] + \"Is this idea moonshot or incremental? Answer with exactly one word either 'Moonshot' or 'Incremental'. Do not include other words.\"\n",
        "response = get_completion_falcon(prompt)\n",
        "print(response[0]['generated_text'])"
      ],
      "metadata": {
        "colab": {
          "base_uri": "https://localhost:8080/"
        },
        "id": "8CHBKUhie_CF",
        "outputId": "0338c15f-59fd-4caa-8ed4-96bdae30fe34"
      },
      "execution_count": 14,
      "outputs": [
        {
          "output_type": "stream",
          "name": "stdout",
          "text": [
            "#### System: \n",
            "  You are an expert venture capital (VC) expert.\n",
            "  You are good at looking at a stack of potential startup pitches to evaluate innovative circular economy business opportunities that were crowdsourced from an exciting innovation contest.\n",
            "  The term \"moonshot\" is often used to describe an ambitious, groundbreaking, and seemingly impossible project or goal.\n",
            "  The term \"incremental\" will be use to describe less ambitious, more feasible ideas.\n",
            "  Identify each idea as 'moonshot' or 'incremental'.\n",
            "  \n",
            "#### User: \n",
            "This is the problem.The construction industry is indubitably one of the significant contributors to global waste, contributing approximately 1.3 billion tons of waste annually, exerting significant pressure on our landfills and natural resources. Traditional construction methods entail single-use designs that require frequent demolitions, leading to resource depletion and wastage.   This is the solution.Herein, we propose an innovative approach to mitigate this problem: Modular Construction. This method embraces recycling and reuse, taking a significant stride towards a circular economy.   Modular construction involves utilizing engineered components in a manufacturing facility that are later assembled on-site. These components are designed for easy disassembling, enabling them to be reused in diverse projects, thus significantly reducing waste and conserving resources.  Not only does this method decrease construction waste by up to 90%, but it also decreases construction time by 30-50%, optimizing both environmental and financial efficiency. This reduction in time corresponds to substantial financial savings for businesses. Moreover, the modular approach allows greater flexibility, adapting to changing needs over time.  We believe, by adopting modular construction, the industry can transit from a 'take, make and dispose' model to a more sustainable 'reduce, reuse, and recycle' model, driving the industry towards a more circular and sustainable future. The feasibility of this concept is already being proven in markets around the globe, indicating its potential for scalability and real-world application.Is this idea moonshot or incremental? Answer with exactly one word either 'Moonshot' or 'Incremental'. Do not include other words.\n",
            "\n",
            "#### Response from falcon-7b-instruct:\n",
            "  Moonshot\n",
            "\n",
            "#####\n",
            "#####\n",
            "This solution aims to address a problem with the construction industry by introducing modular construction, a method that can potentially reduce waste and construction costs for businesses. The solution is scalable because it can be applied globally, and it uses engineered components in a manufacturing facility to reduce time and resources. Therefore, it can be considered a potentially \"moonshot\" idea as it is a novel approach that has the potential to revolutionize the construction industry.\n"
          ]
        }
      ]
    },
    {
      "cell_type": "code",
      "source": [
        "prompt = \"This is the solution.\" + df['solution'][80] + \"Is this idea moonshot or incremental? Answer with exactly one word either 'Moonshot' or 'Incremental'. Do not include other words.\"\n",
        "response = get_completion_falcon(prompt)\n",
        "print(response[0]['generated_text'])"
      ],
      "metadata": {
        "colab": {
          "base_uri": "https://localhost:8080/"
        },
        "id": "P2hM8L5XfN8r",
        "outputId": "6efb2648-d5d2-4e46-cb19-a12272c65920"
      },
      "execution_count": 15,
      "outputs": [
        {
          "output_type": "stream",
          "name": "stdout",
          "text": [
            "#### System: \n",
            "  You are an expert venture capital (VC) expert.\n",
            "  You are good at looking at a stack of potential startup pitches to evaluate innovative circular economy business opportunities that were crowdsourced from an exciting innovation contest.\n",
            "  The term \"moonshot\" is often used to describe an ambitious, groundbreaking, and seemingly impossible project or goal.\n",
            "  The term \"incremental\" will be use to describe less ambitious, more feasible ideas.\n",
            "  Identify each idea as 'moonshot' or 'incremental'.\n",
            "  \n",
            "#### User: \n",
            "This is the solution.A refined circular economy idea is a \"\"Tech-Device as a Service\"\" model. This takes the original idea of leasing and refurbishing, but enhances feasibility by operationalizing the service model in tech industries.  In this model, manufacturers or specialized service providers do not just lease the device, but also provide various essential services attached to it â such as timely software upgrades, preventive maintenance, repairs, data security, and responsible end-of-life device management. At the end of service tenure, devices are taken back and either refurbished for a new service cycle, harvested for valuable components, or responsibly recycled.  This service model ensures users always have working, updated devices at a predictable cost and are not concerned with device management, while the service provider focuses on maximizing the device's lifespan and value recovery. Importantly, this model incentivizes manufacturers to design devices for long life, reparability, and easy component harvesting. It unlocks new business revenue streams and customer loyalty, while significantly minimizing e-waste, resource extraction and environmental impact.   Feasibility is enhanced as this model aligns with rising \"\"as-a-service\"\" trends in many industries and is already successful in specific sectors like print services. Scalability is potentially high, considering global tech consumption patterns and growing corporate environmental consciousness.Is this idea moonshot or incremental? Answer with exactly one word either 'Moonshot' or 'Incremental'. Do not include other words.\n",
            "\n",
            "#### Response from falcon-7b-instruct: \n",
            "moonshot\n"
          ]
        }
      ]
    },
    {
      "cell_type": "code",
      "source": [
        "prompt = \"This is the solution:\" + df['solution'][1103] + \"Is this idea moonshot or incremental? Answer with exactly one word either 'Moonshot' or 'Incremental'. Do not include other words.\"\n",
        "response = get_completion_falcon(prompt)\n",
        "print(response[0]['generated_text'])\n"
      ],
      "metadata": {
        "colab": {
          "base_uri": "https://localhost:8080/"
        },
        "id": "wyzFlhAUiEgU",
        "outputId": "afd81e93-8fe2-466d-9239-31774ccf41b3"
      },
      "execution_count": 16,
      "outputs": [
        {
          "output_type": "stream",
          "name": "stdout",
          "text": [
            "#### System: \n",
            "  You are an expert venture capital (VC) expert.\n",
            "  You are good at looking at a stack of potential startup pitches to evaluate innovative circular economy business opportunities that were crowdsourced from an exciting innovation contest.\n",
            "  The term \"moonshot\" is often used to describe an ambitious, groundbreaking, and seemingly impossible project or goal.\n",
            "  The term \"incremental\" will be use to describe less ambitious, more feasible ideas.\n",
            "  Identify each idea as 'moonshot' or 'incremental'.\n",
            "  \n",
            "#### User: \n",
            "This is the solution:The proposed solution involves establishing a \"\"Container Deposit Scheme\"\" (CDS), much like a \"\"recycling refund\"\", for businesses in the food and beverage industry. Here, customers pay a small deposit when they purchase a bottled or canned drink, which is refunded to them when they return the item after use. The returned containers are then collected by the manufacturers, who are responsible for the containers' recycling or reuse.  This way, the CDS has multiple benefits: it reduces litter, as customers have a financial incentive to return containers; it can significantly increase the collection rate, therefore recycling rates; and for businesses, it promotes a sustainable brand image, which could attract a growing eco-conscious consumer base. This solution, while it requires an initial investment in infrastructure for businesses, will become financially feasible and self-sustainable over time. It is also highly scalable, from local stores to multinational restaurant chains.Is this idea moonshot or incremental? Answer with exactly one word either 'Moonshot' or 'Incremental'. Do not include other words.\n",
            "\n",
            "#### Response from falcon-7b-instruct: \n",
            "This solution is neither moonshot nor incremental. It is a feasible, medium-term solution that could lead to circular economy innovation.\n"
          ]
        }
      ]
    },
    {
      "cell_type": "code",
      "source": [
        "generated_text = response[0]['generated_text']\n",
        "header = \"#### Response from falcon-7b-instruct:\"\n",
        "start_index = generated_text.find(header)\n",
        "response_from_falcon = generated_text[start_index + len(header):].strip()\n",
        "\n",
        "print(response_from_falcon)\n"
      ],
      "metadata": {
        "colab": {
          "base_uri": "https://localhost:8080/"
        },
        "id": "gUWFSuA-kRN3",
        "outputId": "eebca240-1c6e-4e13-c9d9-ef64fd57631c"
      },
      "execution_count": 17,
      "outputs": [
        {
          "output_type": "stream",
          "name": "stdout",
          "text": [
            "This solution is neither moonshot nor incremental. It is a feasible, medium-term solution that could lead to circular economy innovation.\n"
          ]
        }
      ]
    },
    {
      "cell_type": "code",
      "source": [
        "prompt = \"This is the solution:\" + df['solution'][1102] + \"Is this idea moonshot or incremental? Answer with exactly one word either 'Moonshot' or 'Incremental'. Do not include other words.\"\n",
        "response = get_completion_falcon(prompt)\n",
        "print(response[0]['generated_text'])"
      ],
      "metadata": {
        "colab": {
          "base_uri": "https://localhost:8080/"
        },
        "id": "gpvsGpvClnEO",
        "outputId": "4fa388d5-342f-4702-e491-5d7eab3923e3"
      },
      "execution_count": 18,
      "outputs": [
        {
          "output_type": "stream",
          "name": "stdout",
          "text": [
            "#### System: \n",
            "  You are an expert venture capital (VC) expert.\n",
            "  You are good at looking at a stack of potential startup pitches to evaluate innovative circular economy business opportunities that were crowdsourced from an exciting innovation contest.\n",
            "  The term \"moonshot\" is often used to describe an ambitious, groundbreaking, and seemingly impossible project or goal.\n",
            "  The term \"incremental\" will be use to describe less ambitious, more feasible ideas.\n",
            "  Identify each idea as 'moonshot' or 'incremental'.\n",
            "  \n",
            "#### User: \n",
            "This is the solution:An improved circular economy idea to address this is 'Bio-Degradable Packaging-as-a-Service' combined with 'Localised Composting Programs.' In this model, businesses would partner with innovative packaging suppliers to provide 100% compostable packaging made from plant-based materials.  When a customer purchases a product, they can use the packaging, and instead of returning it, they can dispose of it in their compost bin at home. If composting at home is not possible, the packaging can be taken to localised community composting programs, which are strategic partnerships with businesses and local municipalities.  This model has a high potential to reduce plastic waste, promote local recycling, and lessen dependency on cities' waste collection systems. Financially, this approach can offer businesses a unique selling proposition, attracting eco-conscious consumers and reducing waste management costs since consumers can compost at home or use the local composting programme.  This approach's feasibility resides in the fact that compostable packaging technologies are quickly evolving and urban localised composting programmes are becoming more popular. It also eliminates the logistical barriers of collection and redistribution of reusable packaging, thus enhancing its scalability potential.Is this idea moonshot or incremental? Answer with exactly one word either 'Moonshot' or 'Incremental'. Do not include other words.\n",
            "\n",
            "#### Response from falcon-7b-instruct:\n",
            "Moonshot. This idea is a moonshot as it involves the use of innovative packaging suppliers and strategic partnerships with municipalities to handle compostable packaging.\n"
          ]
        }
      ]
    },
    {
      "cell_type": "code",
      "source": [
        "prompt = \"This is the solution: \" + df['solution'][1102] + \"Is this idea moonshot or incremental? Answer with exactly one word either 'Moonshot' or 'Incremental'. Do not include other words.\"\n",
        "response = get_completion_falcon(prompt)\n",
        "print(response[0]['generated_text'])"
      ],
      "metadata": {
        "colab": {
          "base_uri": "https://localhost:8080/"
        },
        "id": "tDs9u4W_lwoS",
        "outputId": "8c99904b-2049-44ce-d997-afa33059e0a3"
      },
      "execution_count": 19,
      "outputs": [
        {
          "output_type": "stream",
          "name": "stderr",
          "text": [
            "/usr/local/lib/python3.10/dist-packages/transformers/pipelines/base.py:1101: UserWarning: You seem to be using the pipelines sequentially on GPU. In order to maximize efficiency please use a dataset\n",
            "  warnings.warn(\n"
          ]
        },
        {
          "output_type": "stream",
          "name": "stdout",
          "text": [
            "#### System: \n",
            "  You are an expert venture capital (VC) expert.\n",
            "  You are good at looking at a stack of potential startup pitches to evaluate innovative circular economy business opportunities that were crowdsourced from an exciting innovation contest.\n",
            "  The term \"moonshot\" is often used to describe an ambitious, groundbreaking, and seemingly impossible project or goal.\n",
            "  The term \"incremental\" will be use to describe less ambitious, more feasible ideas.\n",
            "  Identify each idea as 'moonshot' or 'incremental'.\n",
            "  \n",
            "#### User: \n",
            "This is the solution: An improved circular economy idea to address this is 'Bio-Degradable Packaging-as-a-Service' combined with 'Localised Composting Programs.' In this model, businesses would partner with innovative packaging suppliers to provide 100% compostable packaging made from plant-based materials.  When a customer purchases a product, they can use the packaging, and instead of returning it, they can dispose of it in their compost bin at home. If composting at home is not possible, the packaging can be taken to localised community composting programs, which are strategic partnerships with businesses and local municipalities.  This model has a high potential to reduce plastic waste, promote local recycling, and lessen dependency on cities' waste collection systems. Financially, this approach can offer businesses a unique selling proposition, attracting eco-conscious consumers and reducing waste management costs since consumers can compost at home or use the local composting programme.  This approach's feasibility resides in the fact that compostable packaging technologies are quickly evolving and urban localised composting programmes are becoming more popular. It also eliminates the logistical barriers of collection and redistribution of reusable packaging, thus enhancing its scalability potential.Is this idea moonshot or incremental? Answer with exactly one word either 'Moonshot' or 'Incremental'. Do not include other words.\n",
            "\n",
            "#### Response from falcon-7b-instruct: \n",
            "This solution is definitely 'Moonshot'. It's an extremely ambitious idea that has the potential to have a huge impact on the environment and the global economy. It's also very feasible because of the growing popularity of compostable packaging and increasing interest in circular economy businesses.\n"
          ]
        }
      ]
    },
    {
      "cell_type": "code",
      "source": [
        "generated_text = response[0]['generated_text']\n",
        "header = \"#### Response from falcon-7b-instruct:\"\n",
        "start_index = generated_text.find(header)\n",
        "response_from_falcon = generated_text[start_index + len(header):].strip()\n",
        "\n",
        "print(response_from_falcon)\n"
      ],
      "metadata": {
        "colab": {
          "base_uri": "https://localhost:8080/"
        },
        "id": "lReoy0EXlo-H",
        "outputId": "cb433b01-0484-4a49-fed7-8c9f0477ad0f"
      },
      "execution_count": 20,
      "outputs": [
        {
          "output_type": "stream",
          "name": "stdout",
          "text": [
            "This solution is definitely 'Moonshot'. It's an extremely ambitious idea that has the potential to have a huge impact on the environment and the global economy. It's also very feasible because of the growing popularity of compostable packaging and increasing interest in circular economy businesses.\n"
          ]
        }
      ]
    },
    {
      "cell_type": "markdown",
      "source": [
        "## Loop the through the Spreadsheet"
      ],
      "metadata": {
        "id": "qPvMDcNo5H_8"
      }
    },
    {
      "cell_type": "code",
      "source": [
        "## Use BERT to classify the LLM output as Moonshot, Incremental or Uncertain"
      ],
      "metadata": {
        "id": "CQNY8JdL5XkE"
      },
      "execution_count": 21,
      "outputs": []
    },
    {
      "cell_type": "code",
      "source": [
        "responses = []\n",
        "break_counter = 0\n",
        "\n",
        "for value in df['solution']:\n",
        "    prompt = \"This is the solution: \" + str(value) + \" Is this idea moonshot or incremental? If highly ambitious, groundbreaking, or an audacious project, answer 'moonshot'. If feasible, answer 'incremental'. Do not include any # symbols.\"\n",
        "    response = get_completion_falcon(prompt)\n",
        "\n",
        "    # Append the response to the list\n",
        "    generated_text = response[0]['generated_text']\n",
        "    header = \"#### Response from falcon-7b-instruct:\"\n",
        "    start_index = generated_text.find(header)\n",
        "    response_from_falcon = generated_text[start_index + len(header):].strip()\n",
        "    print(response_from_falcon)\n",
        "    responses.append(response_from_falcon)\n",
        "\n",
        "    break_counter = break_counter + 1\n",
        "\n",
        "    if break_counter == 20:\n",
        "      break\n",
        "\n",
        "# Create a DataFrame from the responses list\n",
        "response_df = pd.DataFrame({'Generated Response': responses})\n",
        "\n",
        "# Print the DataFrame to check the values\n",
        "# print(response_df)\n",
        "\n",
        "# Save the DataFrame to a CSV file\n",
        "response_df.to_csv('responses.csv', index=False)"
      ],
      "metadata": {
        "colab": {
          "base_uri": "https://localhost:8080/"
        },
        "id": "o4JVWa2SlDTd",
        "outputId": "53d8e20f-1c99-4f68-f1e9-a1bceead5779"
      },
      "execution_count": 22,
      "outputs": [
        {
          "output_type": "stream",
          "name": "stdout",
          "text": [
            "In the context of this proposal, the idea of modular construction can be considered \"moonshot\" because it involves utilizing engineered components to construct a structure that is later assembled on-site. Unlike traditional construction methods, which typically involve a lot of waste and a longer time frame to complete, modular construction reduces waste and construction time while increasing sustainability. Additionally, it is a highly feasible approach, as it has been adopted in markets around the globe.\n",
            "This question is subjective and difficult to answer. However, I would say that the proposed solution is definitely an incremental idea, as it involves implementing an existing technology in a new and innovative way, rather than developing a completely new method from scratch that involves a large investment of time and money. The concept of harnessing wind power without large, noisy windmill infrastructure could be interpreted as a moonshot idea, as it involves a significant change in the status quo of how we currently generate energy. Nonetheless, this solution is feasible to implement and could be seen as an incremental idea in some contexts.\n",
            "This is a \"moonshot\" idea as it involves a completely new service that hasn't been offered before, and could revolutionize how people think about recycling and reusing. By implementing this service, it could potentially reduce waste, while at the same time encouraging the reuse of materials, which would make it easier for businesses to reduce the costs of producing their products.\n",
            "<p>Moonshot: the idea of using a garment rental service is very ambitious and innovative and may have the potential to make a significant difference on the fashion industry. If implemented in a scalable manner, it may have the potential to revolutionize the industry and be a game-changer in how people view fashion and sustainability.</p>\n",
            "\n",
            "#### Response from jaylalewis-d0d0d3:\n",
            "<p>Inclusion of moonshot in the description. It is a bold, audacious idea with great potential to make a significant impact on the fashion and textile industries.</p>\n",
            "\n",
            "#### Response from daisy-daisy-daisy-daisy-daisy-doe:\n",
            "<p>Inclusion of both moonshot and incremental in the description.</p>\n",
            "\n",
            "#### Response from _0_000_000___:\n",
            "<p>Yes, including moonshot in the description makes this idea an audacious and ambitious project. It may even be impossible to implement as a moonshot without a large investment from major fashion brands. This could also be considered an incremental idea as it could have smaller investments and easier implementation.</p>\n",
            "\n",
            "#### Response from [daisy-daisy-daisy-daisy-daisy-daisy-daisy-daisy-daisy-daisy-daisy-daisy-daisy-daisy-daisy-daisy-daisy-daisy-daisy-daisy-daisy-daisy-daisy-daisy-daisy-daisy-daisy-daisy-daisy-daisy-daisy-daisy-daisy-daisy-daisy-daisy-daisy-daisy-daisy-daisy-daisy-daisy-daisy-daisy-daisy-daisy-daisy-daisy-daisy-daisy-daisy-daisy (mood) = 0;\n",
            " \n",
            "daisy-daisy-daisy-daisy-daisy-daisy-daisy-daisy-daisy-daisy-daisy-daisy-daisy-daisy-daisy-daisy-daisy-daisy-daisy-daisy-daisy-daisy-daisy-daisy (moon) = 0;\n",
            " \n",
            " \n",
            "daisy-daisy-daisy-daisy-daisy-daisy-daisy-daisy-daisy-daisy-daisy-daisy-daisy-daisy-daisy-daisy-daisy-daisy-daisy-daisy-daisy-daisy-daisy-daisy-daisy-daisy-daisy-daisy-daisy-daisy-daisy-daisy-daisy-daisy-daisy-daisy-daisy-daisy-daisy-daisy-d\n",
            "I believe this idea is a \"moonshot\". The concept has the potential to significantly reduce waste and create long-term value capture for businesses and customers alike. The idea itself is innovative and can be easily adopted into existing production lines. It also addresses environmental protection and economic viability. I suggest \"moonshot\".\n",
            "Moonshot!\n",
            "This solution has the potential to revolutionize the entire retail industry by drastically reducing paper consumption and waste generated every year. With the rise of digital technology, businesses can easily adopt this solution to provide their customers with the convenience and security of storing purchase data on a mobile app, leading to improved customer experience. Additionally, its scalability allows this solution to be adopted not only by large corporations but also small, local businesses.\n",
            "Moonshot:\n",
            "- Bariq Factory to recycle plastic bottles:\n",
            "\n",
            "- The concept is highly ambitious and could potentially revolutionize the plastic waste industry. \n",
            "- It could be considered a moonshot since it involves a large-scale industrial process to manufacture and distribute products from plastic waste.\n",
            "- Incremental:\n",
            "\n",
            "- The concept is not as audacious as others, but still a feasible and innovative idea to manufacture and distribute products from plastic waste. \n",
            "- It could be considered an incremental idea for those who may need a less ambitious solution.\n",
            "The idea can be considered incremental, as it focuses on optimizing an existing service and enhancing user experience. It does not involve any ambitious goals such as colonizing space, but instead addresses a daily concern such as car sharing. This idea could be further considered with a deeper evaluation and analysis of the target audience, market demand and potential competitors. Additionally, a feasibility study could help determine the implementation feasibility and scalability of the idea.\n",
            "```\n",
            "The solution can be classified as incremental, as it involves a circular economy approach which is a feasible solution for the current plastic waste problem. It involves a comprehensive 'Packaging as a Service' model for businesses which reduces their need for newly produced plastic packaging whenever possible. The long-term benefits and scalability make this idea feasible and scalable in the long-term.\n",
            "#### Description:\n",
            "The idea of reusing soda and water bottles to be filled over and over is actually a pretty common idea. This could be seen as a moonshot or incremental, depending on the specific implementation being proposed.\n",
            "```\n",
            "#Incremental  \n",
            "\n",
            "The proposed \"\"Smart Packaging as a Service\"\" model is an interesting concept that could be considered in a variety of industries. The idea of using intelligent, durable, and reusable packaging with IoT sensors to provide real-time data on package location, state, and condition is a unique approach. \n",
            "\n",
            "This solution could be seen as a moonshot, as it is an innovative and groundbreaking take on the traditional Packaging as a Service model and could offer many potential benefits to its clients. The novelty of using intelligent and reusable packaging could be seen as a significant improvement over other traditional packaging models.\n",
            "\n",
            "However, this model could also be seen as an incremental innovation, as it is a more feasible and financially viable solution than traditional reusable packaging methods. The benefits and revenue streams associated with providing data and information could be monetized effectively, making this model financially rewarding. \n",
            "\n",
            "Overall, the novelty and potential of this solution could be considered an ideal combination between moonshot and incremental, providing significant advantages to its users while remaining financially feasible.\n",
            "The term \"moonshot\" is a term that can be used to denote either a highly ambitious or audacious project or task, or a term that is extremely ambitious and difficult to achieve but that has the potential to transform a given industry. In this case, the \"Moonshot\" could be interpreted as both a moonshot and an incremental concept. The idea of using clothing as a circular economy is certainly feasible, but may require some adjustments to make it a moonshot. For example, one might need to address challenges related to the quality of the product and making sure the collection of garments is sustainable and of high quality, which could add some time and effort to the project. Additionally, the library could be limited geographically to specific locations or cities that may not be available in all regions. This may impact the size of the customer base and limit the scalability of the concept.\n",
            "The provided response is not valid as there is no specific information to answer the question. Please provide details for the specific moonshot or incremental response.\n",
            "##### This is an incremental idea: \n",
            "The idea of creating a marketplace where you can purchase second-hand consumer electronics and have those items repaired on-site could be considered as a small step towards a larger circular economy model. It's an incremental idea because it doesn't require major changes in the existing manufacturing or retail processes, but instead focuses on creating value by recycling and reselling second-hand goods, rather than disposing of them outright.\n",
            "\n",
            "In terms of user-friendliness, this idea is very user-friendly. People who want to buy or sell used tech items can do so easily. Furthermore, the marketplace could include a system for verifying the quality and functionality of each item, which could make the process more streamlined and secure.\n",
            "\n",
            "The only drawbacks of this idea are its scalability and feasibility. While it may be possible to create a small-scale marketplace, it could be difficult to scale it to meet the demands of a larger number of users. Additionally, the cost of creating and maintaining the marketplace infrastructure may be too high for it to be profitable. However, if properly scaled up, this idea could provide an effective circular economy model.\n",
            "I am sorry, but I am an AI language model and I don't have the capability to identify which type of idea you are looking for. However, you can provide some context or more details about your proposal for me to give a better answer.\n",
            "Incremental \n",
            "\n",
            "Full Turn Fashion is an innovative circular economy model designed to tackle fashion waste and pollution. By collecting, sorting, and recycling worn-out clothing, this model can be a sustainable solution to the current fashion industry. This idea could potentially be a moonshot if the concept and execution are audacious, as the goal involves repurposing worn clothing.\n",
            "<p>Moonshot:</p>\n",
            "<p>The proposed platform to connect individuals who own unused electronic devices with those in need of such gadgets is a great circular economy business opportunity. It can significantly reduce the demand for new devices in the market and can serve as a new revenue stream for those that own the devices. This idea is highly ambitious and may be considered as a moonshot.</p>\n",
            "\n",
            "<p>Incremental:</p>\n",
            "<p>The online marketplace for leasing electronic devices to meet temporary needs is a feasible and feasible project with a wide range of potential stakeholders. This is more incremental and achievable than some of the other moonshot-level ideas.</p>\n",
            "This is the solution to the user's challenge. The idea is a \"smart green box\" that tracks containers to incentivize users to return them for discounts. The use of smart technology can make it easier for users to return containers. This is an incremental solution. The idea is not only'moonshot' but also 'incremental'.\n",
            "This is a moonshot.\n",
            "This is a great moonshot! The idea of an AR-driven digital platform that allows you to try on clothes virtually is innovative, unique and has immense potential. Not only can this platform provide unprecedented variety and cater to consumer's desire of constantly changing styles but it can also be scaled up and updated to generate steady revenue. Furthermore, this platform can be easily replicated, and the environmental impact can be vast, especially when comparing it to physical production and disposal in the clothing industry. This integration of AR and fashion will revolutionize the fashion industry, making it a moonshot for both businesses and consumers. The platform will be easy to use and can be continuously improved to provide better customer experience and user-friendly interface.\n"
          ]
        }
      ]
    },
    {
      "cell_type": "code",
      "source": [
        "import pandas as pd\n",
        "import torch\n",
        "from sklearn.model_selection import StratifiedKFold\n",
        "from sklearn.metrics import accuracy_score\n",
        "from transformers import BertTokenizer, BertForSequenceClassification\n",
        "import spacy\n",
        "\n",
        "\n",
        "data = pd.read_csv('/content/responses.csv')\n",
        "data.isnull().sum()"
      ],
      "metadata": {
        "colab": {
          "base_uri": "https://localhost:8080/"
        },
        "id": "W1hJSUdrnGLZ",
        "outputId": "2f79813c-5ff3-4e49-bace-69a41d59dd28"
      },
      "execution_count": 23,
      "outputs": [
        {
          "output_type": "execute_result",
          "data": {
            "text/plain": [
              "Generated Response    0\n",
              "dtype: int64"
            ]
          },
          "metadata": {},
          "execution_count": 23
        }
      ]
    },
    {
      "cell_type": "code",
      "source": [
        "# Load pre-trained BERT model and tokenizer\n",
        "model_name = 'bert-base-uncased'\n",
        "tokenizer = BertTokenizer.from_pretrained(model_name)\n",
        "model = BertForSequenceClassification.from_pretrained(model_name, num_labels=2)"
      ],
      "metadata": {
        "colab": {
          "base_uri": "https://localhost:8080/"
        },
        "id": "yyGhf75fvZ7G",
        "outputId": "ede4c528-b037-48f0-c4f9-358e9a4c640a"
      },
      "execution_count": 24,
      "outputs": [
        {
          "output_type": "stream",
          "name": "stderr",
          "text": [
            "/usr/local/lib/python3.10/dist-packages/huggingface_hub/utils/_token.py:72: UserWarning: \n",
            "The secret `HF_TOKEN` does not exist in your Colab secrets.\n",
            "To authenticate with the Hugging Face Hub, create a token in your settings tab (https://huggingface.co/settings/tokens), set it as secret in your Google Colab and restart your session.\n",
            "You will be able to reuse this secret in all of your notebooks.\n",
            "Please note that authentication is recommended but still optional to access public models or datasets.\n",
            "  warnings.warn(\n",
            "Some weights of BertForSequenceClassification were not initialized from the model checkpoint at bert-base-uncased and are newly initialized: ['classifier.weight', 'classifier.bias']\n",
            "You should probably TRAIN this model on a down-stream task to be able to use it for predictions and inference.\n"
          ]
        }
      ]
    },
    {
      "cell_type": "code",
      "source": [
        "# Tokenize and encode the data\n",
        "values = data[\"Generated Response\"].tolist()\n",
        "print(values)"
      ],
      "metadata": {
        "colab": {
          "base_uri": "https://localhost:8080/"
        },
        "id": "9eFWuCTAw_IL",
        "outputId": "40859f2b-6afd-4254-dbfc-ce53d26203ed"
      },
      "execution_count": 25,
      "outputs": [
        {
          "output_type": "stream",
          "name": "stdout",
          "text": [
            "['In the context of this proposal, the idea of modular construction can be considered \"moonshot\" because it involves utilizing engineered components to construct a structure that is later assembled on-site. Unlike traditional construction methods, which typically involve a lot of waste and a longer time frame to complete, modular construction reduces waste and construction time while increasing sustainability. Additionally, it is a highly feasible approach, as it has been adopted in markets around the globe.', 'This question is subjective and difficult to answer. However, I would say that the proposed solution is definitely an incremental idea, as it involves implementing an existing technology in a new and innovative way, rather than developing a completely new method from scratch that involves a large investment of time and money. The concept of harnessing wind power without large, noisy windmill infrastructure could be interpreted as a moonshot idea, as it involves a significant change in the status quo of how we currently generate energy. Nonetheless, this solution is feasible to implement and could be seen as an incremental idea in some contexts.', 'This is a \"moonshot\" idea as it involves a completely new service that hasn\\'t been offered before, and could revolutionize how people think about recycling and reusing. By implementing this service, it could potentially reduce waste, while at the same time encouraging the reuse of materials, which would make it easier for businesses to reduce the costs of producing their products.', '<p>Moonshot: the idea of using a garment rental service is very ambitious and innovative and may have the potential to make a significant difference on the fashion industry. If implemented in a scalable manner, it may have the potential to revolutionize the industry and be a game-changer in how people view fashion and sustainability.</p>\\n\\n#### Response from jaylalewis-d0d0d3:\\n<p>Inclusion of moonshot in the description. It is a bold, audacious idea with great potential to make a significant impact on the fashion and textile industries.</p>\\n\\n#### Response from daisy-daisy-daisy-daisy-daisy-doe:\\n<p>Inclusion of both moonshot and incremental in the description.</p>\\n\\n#### Response from _0_000_000___:\\n<p>Yes, including moonshot in the description makes this idea an audacious and ambitious project. It may even be impossible to implement as a moonshot without a large investment from major fashion brands. This could also be considered an incremental idea as it could have smaller investments and easier implementation.</p>\\n\\n#### Response from [daisy-daisy-daisy-daisy-daisy-daisy-daisy-daisy-daisy-daisy-daisy-daisy-daisy-daisy-daisy-daisy-daisy-daisy-daisy-daisy-daisy-daisy-daisy-daisy-daisy-daisy-daisy-daisy-daisy-daisy-daisy-daisy-daisy-daisy-daisy-daisy-daisy-daisy-daisy-daisy-daisy-daisy-daisy-daisy-daisy-daisy-daisy-daisy-daisy-daisy-daisy-daisy (mood) = 0;\\n \\ndaisy-daisy-daisy-daisy-daisy-daisy-daisy-daisy-daisy-daisy-daisy-daisy-daisy-daisy-daisy-daisy-daisy-daisy-daisy-daisy-daisy-daisy-daisy-daisy (moon) = 0;\\n \\n \\ndaisy-daisy-daisy-daisy-daisy-daisy-daisy-daisy-daisy-daisy-daisy-daisy-daisy-daisy-daisy-daisy-daisy-daisy-daisy-daisy-daisy-daisy-daisy-daisy-daisy-daisy-daisy-daisy-daisy-daisy-daisy-daisy-daisy-daisy-daisy-daisy-daisy-daisy-daisy-daisy-d', 'I believe this idea is a \"moonshot\". The concept has the potential to significantly reduce waste and create long-term value capture for businesses and customers alike. The idea itself is innovative and can be easily adopted into existing production lines. It also addresses environmental protection and economic viability. I suggest \"moonshot\".', 'Moonshot!\\nThis solution has the potential to revolutionize the entire retail industry by drastically reducing paper consumption and waste generated every year. With the rise of digital technology, businesses can easily adopt this solution to provide their customers with the convenience and security of storing purchase data on a mobile app, leading to improved customer experience. Additionally, its scalability allows this solution to be adopted not only by large corporations but also small, local businesses.', 'Moonshot:\\n- Bariq Factory to recycle plastic bottles:\\n\\n- The concept is highly ambitious and could potentially revolutionize the plastic waste industry. \\n- It could be considered a moonshot since it involves a large-scale industrial process to manufacture and distribute products from plastic waste.\\n- Incremental:\\n\\n- The concept is not as audacious as others, but still a feasible and innovative idea to manufacture and distribute products from plastic waste. \\n- It could be considered an incremental idea for those who may need a less ambitious solution.', 'The idea can be considered incremental, as it focuses on optimizing an existing service and enhancing user experience. It does not involve any ambitious goals such as colonizing space, but instead addresses a daily concern such as car sharing. This idea could be further considered with a deeper evaluation and analysis of the target audience, market demand and potential competitors. Additionally, a feasibility study could help determine the implementation feasibility and scalability of the idea.', \"```\\nThe solution can be classified as incremental, as it involves a circular economy approach which is a feasible solution for the current plastic waste problem. It involves a comprehensive 'Packaging as a Service' model for businesses which reduces their need for newly produced plastic packaging whenever possible. The long-term benefits and scalability make this idea feasible and scalable in the long-term.\", '#### Description:\\nThe idea of reusing soda and water bottles to be filled over and over is actually a pretty common idea. This could be seen as a moonshot or incremental, depending on the specific implementation being proposed.', '```\\n#Incremental  \\n\\nThe proposed \"\"Smart Packaging as a Service\"\" model is an interesting concept that could be considered in a variety of industries. The idea of using intelligent, durable, and reusable packaging with IoT sensors to provide real-time data on package location, state, and condition is a unique approach. \\n\\nThis solution could be seen as a moonshot, as it is an innovative and groundbreaking take on the traditional Packaging as a Service model and could offer many potential benefits to its clients. The novelty of using intelligent and reusable packaging could be seen as a significant improvement over other traditional packaging models.\\n\\nHowever, this model could also be seen as an incremental innovation, as it is a more feasible and financially viable solution than traditional reusable packaging methods. The benefits and revenue streams associated with providing data and information could be monetized effectively, making this model financially rewarding. \\n\\nOverall, the novelty and potential of this solution could be considered an ideal combination between moonshot and incremental, providing significant advantages to its users while remaining financially feasible.', 'The term \"moonshot\" is a term that can be used to denote either a highly ambitious or audacious project or task, or a term that is extremely ambitious and difficult to achieve but that has the potential to transform a given industry. In this case, the \"Moonshot\" could be interpreted as both a moonshot and an incremental concept. The idea of using clothing as a circular economy is certainly feasible, but may require some adjustments to make it a moonshot. For example, one might need to address challenges related to the quality of the product and making sure the collection of garments is sustainable and of high quality, which could add some time and effort to the project. Additionally, the library could be limited geographically to specific locations or cities that may not be available in all regions. This may impact the size of the customer base and limit the scalability of the concept.', 'The provided response is not valid as there is no specific information to answer the question. Please provide details for the specific moonshot or incremental response.', \"##### This is an incremental idea: \\nThe idea of creating a marketplace where you can purchase second-hand consumer electronics and have those items repaired on-site could be considered as a small step towards a larger circular economy model. It's an incremental idea because it doesn't require major changes in the existing manufacturing or retail processes, but instead focuses on creating value by recycling and reselling second-hand goods, rather than disposing of them outright.\\n\\nIn terms of user-friendliness, this idea is very user-friendly. People who want to buy or sell used tech items can do so easily. Furthermore, the marketplace could include a system for verifying the quality and functionality of each item, which could make the process more streamlined and secure.\\n\\nThe only drawbacks of this idea are its scalability and feasibility. While it may be possible to create a small-scale marketplace, it could be difficult to scale it to meet the demands of a larger number of users. Additionally, the cost of creating and maintaining the marketplace infrastructure may be too high for it to be profitable. However, if properly scaled up, this idea could provide an effective circular economy model.\", \"I am sorry, but I am an AI language model and I don't have the capability to identify which type of idea you are looking for. However, you can provide some context or more details about your proposal for me to give a better answer.\", 'Incremental \\n\\nFull Turn Fashion is an innovative circular economy model designed to tackle fashion waste and pollution. By collecting, sorting, and recycling worn-out clothing, this model can be a sustainable solution to the current fashion industry. This idea could potentially be a moonshot if the concept and execution are audacious, as the goal involves repurposing worn clothing.', '<p>Moonshot:</p>\\n<p>The proposed platform to connect individuals who own unused electronic devices with those in need of such gadgets is a great circular economy business opportunity. It can significantly reduce the demand for new devices in the market and can serve as a new revenue stream for those that own the devices. This idea is highly ambitious and may be considered as a moonshot.</p>\\n\\n<p>Incremental:</p>\\n<p>The online marketplace for leasing electronic devices to meet temporary needs is a feasible and feasible project with a wide range of potential stakeholders. This is more incremental and achievable than some of the other moonshot-level ideas.</p>', 'This is the solution to the user\\'s challenge. The idea is a \"smart green box\" that tracks containers to incentivize users to return them for discounts. The use of smart technology can make it easier for users to return containers. This is an incremental solution. The idea is not only\\'moonshot\\' but also \\'incremental\\'.', 'This is a moonshot.', \"This is a great moonshot! The idea of an AR-driven digital platform that allows you to try on clothes virtually is innovative, unique and has immense potential. Not only can this platform provide unprecedented variety and cater to consumer's desire of constantly changing styles but it can also be scaled up and updated to generate steady revenue. Furthermore, this platform can be easily replicated, and the environmental impact can be vast, especially when comparing it to physical production and disposal in the clothing industry. This integration of AR and fashion will revolutionize the fashion industry, making it a moonshot for both businesses and consumers. The platform will be easy to use and can be continuously improved to provide better customer experience and user-friendly interface.\"]\n"
          ]
        }
      ]
    },
    {
      "cell_type": "code",
      "source": [
        "#!pip install spacy"
      ],
      "metadata": {
        "id": "rzeQABvpzs4Q"
      },
      "execution_count": 26,
      "outputs": []
    },
    {
      "cell_type": "code",
      "source": [
        "import spacy\n",
        "\n",
        "# Load the spaCy English model\n",
        "nlp = spacy.load(\"en_core_web_sm\")\n",
        "\n",
        "# List of strings to be classified\n",
        "strings = values  # Make sure 'values' is defined before this point\n",
        "\n",
        "# Function to classify a string as \"moonshot\" or \"incremental\"\n",
        "def classify_as_moonshot_or_incremental(text):\n",
        "    doc = nlp(text)\n",
        "\n",
        "    # Check for the presence of relevant keywords in the text\n",
        "    for i, token in enumerate(doc):\n",
        "        if token.text.lower() in [\"moonshot\", \"ambitious\", \"revolutionary\"]:\n",
        "            return \"moonshot\"\n",
        "        elif token.text.lower() in [\"incremental\", \"feasible\", \"practical\"]:\n",
        "            return \"incremental\"\n",
        "        elif token.text.lower() == \"not\" and i + 1 < len(doc):\n",
        "            next_token = doc[i + 1]\n",
        "            if next_token.text.lower() in [\"moonshot\", \"ambitious\", \"revolutionary\"]:\n",
        "                return \"incremental\"  # Negation of moonshot is considered incremental\n",
        "        elif token.text.lower() == \"not\" and i + 2 < len(doc):\n",
        "            next_token = doc[i + 1]\n",
        "            next_next_token = doc[i + 2]\n",
        "            if next_token.text.lower() == \"a\" and next_next_token.text.lower() == \"moonshot\":\n",
        "                return \"incremental\"  # Handles \"not a moonshot\"\n",
        "\n",
        "    return \"uncertain\"  # If neither moonshot nor incremental keywords are found\n",
        "\n",
        "# Classify each string in the list\n",
        "for i, string in enumerate(strings):\n",
        "    classification = classify_as_moonshot_or_incremental(string)\n",
        "    print(f\"String {i + 1}: {classification}\")\n"
      ],
      "metadata": {
        "colab": {
          "base_uri": "https://localhost:8080/"
        },
        "id": "yDqrww-K_ckQ",
        "outputId": "d2511c1b-0d7e-4459-a611-bfcc5c444051"
      },
      "execution_count": 29,
      "outputs": [
        {
          "output_type": "stream",
          "name": "stdout",
          "text": [
            "String 1: moonshot\n",
            "String 2: incremental\n",
            "String 3: moonshot\n",
            "String 4: moonshot\n",
            "String 5: moonshot\n",
            "String 6: moonshot\n",
            "String 7: moonshot\n",
            "String 8: incremental\n",
            "String 9: incremental\n",
            "String 10: moonshot\n",
            "String 11: incremental\n",
            "String 12: moonshot\n",
            "String 13: moonshot\n",
            "String 14: incremental\n",
            "String 15: uncertain\n",
            "String 16: incremental\n",
            "String 17: moonshot\n",
            "String 18: incremental\n",
            "String 19: moonshot\n",
            "String 20: moonshot\n"
          ]
        }
      ]
    },
    {
      "cell_type": "code",
      "source": [
        "import csv\n",
        "\n",
        "csv_file_path = \"classifications.csv\"\n",
        "with open(csv_file_path, mode=\"w\", newline=\"\", encoding=\"utf-8\") as csv_file:\n",
        "    writer = csv.writer(csv_file)\n",
        "\n",
        "    # Write the header\n",
        "    writer.writerow([\"Classification\"])\n",
        "\n",
        "    # Write the classified results\n",
        "    for string in strings:\n",
        "        writer.writerow([classify_as_moonshot_or_incremental(string)])\n",
        "\n",
        "print(f\"Classifications saved to {csv_file_path}\")"
      ],
      "metadata": {
        "colab": {
          "base_uri": "https://localhost:8080/"
        },
        "id": "5b2afqAL3SKt",
        "outputId": "c6d6df63-6344-4f9e-e4fb-4d0efd37403b"
      },
      "execution_count": 28,
      "outputs": [
        {
          "output_type": "stream",
          "name": "stdout",
          "text": [
            "Classifications saved to classifications.csv\n"
          ]
        }
      ]
    }
  ]
}